{
 "cells": [
  {
   "cell_type": "code",
   "execution_count": 45,
   "id": "f5f17459",
   "metadata": {},
   "outputs": [],
   "source": [
    "from dotenv import load_dotenv\n",
    "from azure.identity import DefaultAzureCredential, get_bearer_token_provider\n",
    "import logging\n",
    "import pyodbc\n",
    "import pandas\n",
    "import os\n",
    "from azure.core.credentials import AzureKeyCredential\n",
    "from azure.search.documents.indexes import SearchIndexerClient\n",
    "from azure.search.documents.indexes import SearchIndexClient\n",
    "from azure.search.documents.indexes.models import (\n",
    "    SearchIndexerDataContainer, SearchIndexerDataSourceConnection)\n",
    "from azure.search.documents.indexes.models import (\n",
    "    SearchField, SearchFieldDataType, \n",
    "    VectorSearch, HnswAlgorithmConfiguration, VectorSearchProfile, AzureOpenAIVectorizer, AzureOpenAIVectorizerParameters,\n",
    "    SearchIndex, HnswParameters, VectorSearchAlgorithmMetric, SemanticConfiguration, SemanticPrioritizedFields, \n",
    "    SemanticField, SemanticSearch, ExhaustiveKnnAlgorithmConfiguration, ExhaustiveKnnParameters)\n",
    "from azure.search.documents.indexes.models import (  \n",
    "SplitSkill, InputFieldMappingEntry, OutputFieldMappingEntry,AzureOpenAIEmbeddingSkill, SearchIndexerIndexProjection, SearchIndexerIndexProjectionSelector,\n",
    "SearchIndexerIndexProjectionsParameters,SearchIndexerSkill,SearchIndexerSkillset,SearchIndexer\n",
    ")"
   ]
  },
  {
   "cell_type": "code",
   "execution_count": 9,
   "id": "79f2c13b",
   "metadata": {},
   "outputs": [],
   "source": [
    "load_dotenv(override=True)\n",
    "\n",
    "sql_server = os.environ.get(\"SQL_SERVER_NAME\")\n",
    "database_name = os.environ.get(\"SQL_DATABASE_NAME\")\n",
    "username = os.environ.get(\"SQL_USERNAME\")\n",
    "password = os.environ.get(\"SQL_PASSWORD\")"
   ]
  },
  {
   "cell_type": "code",
   "execution_count": 26,
   "id": "8c8e7857",
   "metadata": {},
   "outputs": [],
   "source": [
    "azure_openai_endpoint = os.environ[\"AZURE_OPENAI_ENDPOINT\"]\n",
    "azure_openai_gpt_deployment = os.getenv(\"AZURE_OPENAI_GPT_DEPLOYMENT\", \"gpt-4.1-mini\")\n",
    "azure_openai_gpt_model = os.getenv(\"AZURE_OPENAI_GPT_MODEL\", \"gpt-4.1-mini\")\n",
    "azure_openai_embedding_deployment = os.getenv(\"AZURE_OPENAI_EMBEDDING_DEPLOYMENT\", \"text-embedding-3-large\")\n",
    "azure_openai_embedding_model = os.getenv(\"AZURE_OPENAI_EMBEDDING_MODEL\", \"text-embedding-3-large\")"
   ]
  },
  {
   "cell_type": "code",
   "execution_count": 13,
   "id": "47aab4d2",
   "metadata": {},
   "outputs": [],
   "source": [
    "endpoint = os.environ[\"AZURE_SEARCH_ENDPOINT\"]\n",
    "credential = DefaultAzureCredential(managed_identity_client_id  = \"fff597f2-4818-46d2-a58a-c4e105847b1a\")"
   ]
  },
  {
   "cell_type": "code",
   "execution_count": 20,
   "id": "62d84f0d",
   "metadata": {},
   "outputs": [
    {
     "data": {
      "text/plain": [
       "'salesltcustomer-azuresqlcon'"
      ]
     },
     "execution_count": 20,
     "metadata": {},
     "output_type": "execute_result"
    }
   ],
   "source": [
    "embedding_length = 3072\n",
    "table_name = '[SalesLT].[Customer]'\n",
    "data_source_name = f\"{table_name.replace('[','').replace(']','').replace('.','').lower()}-azuresqlcon\"\n",
    "data_source_name\n"
   ]
  },
  {
   "cell_type": "code",
   "execution_count": 19,
   "id": "3fc3b587",
   "metadata": {},
   "outputs": [],
   "source": [
    "sqltcpcon = f'Encrypt=True;TrustServerCertificate=False;Connection Timeout=30;Server=tcp:{sql_server};Database={database_name};User ID={username};Password={password};'\n",
    "\n",
    "aisearch = SearchIndexerClient(endpoint, credential)\n",
    "search_container = SearchIndexerDataContainer(name=table_name)\n",
    "\n",
    "data_source_connection = SearchIndexerDataSourceConnection(\n",
    "        name=data_source_name,\n",
    "        type=\"azuresql\",\n",
    "        connection_string=sqltcpcon,\n",
    "        container=search_container\n",
    "    )\n",
    "\n",
    "datacon = aisearch.create_or_update_data_source_connection(data_source_connection)\n",
    "logging.info(f\"Data source connection {datacon.name} created\")"
   ]
  },
  {
   "cell_type": "code",
   "execution_count": 43,
   "id": "309806ec",
   "metadata": {},
   "outputs": [],
   "source": [
    "index_name = 'sql-db-index'\n",
    "skillset_name = index_name + \"-skillset\"\n",
    "indexer_name = f\"{index_name}-indexer\""
   ]
  },
  {
   "cell_type": "code",
   "execution_count": 39,
   "id": "117520ae",
   "metadata": {},
   "outputs": [
    {
     "name": "stdout",
     "output_type": "stream",
     "text": [
      "Index 'sql-db-index' created or updated successfully\n"
     ]
    }
   ],
   "source": [
    "index = SearchIndex(\n",
    "    name=index_name,\n",
    "        fields=[\n",
    "            SearchField(name=\"Id\", type=SearchFieldDataType.String, key=True, analyzer_name=\"keyword\"),\n",
    "            SearchField(name=\"chunk\", type=SearchFieldDataType.String, sortable=False, filterable=False, facetable=False),\n",
    "            SearchField(name=\"vector\", type=SearchFieldDataType.Collection(SearchFieldDataType.Single), vector_search_dimensions=embedding_length, vector_search_profile_name=\"vectorsearch-profile\"),\n",
    "            SearchField(name=\"db_CustomerID\", type=SearchFieldDataType.String, sortable=True, filterable=True, facetable=True),\n",
    "            SearchField(name=\"db_FirstName\", type=SearchFieldDataType.String, sortable=True, filterable=True, facetable=True),\n",
    "            SearchField(name=\"db_CompanyName\", type=SearchFieldDataType.String, sortable=True, filterable=True, facetable=True)\n",
    "    ],\n",
    "    vector_search=VectorSearch(\n",
    "        profiles=[ \n",
    "            VectorSearchProfile(\n",
    "                name=\"vectorsearch-profile\",\n",
    "                algorithm_configuration_name=\"hnsw-config\",\n",
    "                vectorizer_name=\"azure_openai_text_3_large\" \n",
    "            ),\n",
    "            VectorSearchProfile(\n",
    "                name=\"exhaustiveknn-profile\",\n",
    "                algorithm_configuration_name=\"exhaustiveknn-config\",\n",
    "                vectorizer_name=\"azure_openai_text_3_large\"\n",
    "            )\n",
    "        ],\n",
    "        algorithms=[\n",
    "            HnswAlgorithmConfiguration(\n",
    "                name=\"hnsw-config\",\n",
    "                parameters=HnswParameters(  \n",
    "                    m=4,  \n",
    "                    ef_construction=400,  \n",
    "                    ef_search=500,  \n",
    "                    metric=VectorSearchAlgorithmMetric.COSINE,  \n",
    "                ),  \n",
    "            ),\n",
    "            ExhaustiveKnnAlgorithmConfiguration(\n",
    "                name=\"exhaustiveknn-config\",\n",
    "                parameters=ExhaustiveKnnParameters(\n",
    "                    metric=VectorSearchAlgorithmMetric.COSINE\n",
    "                )\n",
    "            )\n",
    "        ],\n",
    "        vectorizers=[\n",
    "            AzureOpenAIVectorizer(\n",
    "                vectorizer_name=\"azure_openai_text_3_large\",\n",
    "                kind=\"azureOpenAI\",\n",
    "                parameters=AzureOpenAIVectorizerParameters(\n",
    "                    resource_url=azure_openai_endpoint,\n",
    "                    deployment_name=azure_openai_embedding_deployment,\n",
    "                    model_name=azure_openai_embedding_model\n",
    "                )\n",
    "            )\n",
    "        ]\n",
    "    ),\n",
    "    semantic_search=SemanticSearch(\n",
    "        default_configuration_name=\"semantic_config\",\n",
    "        configurations=[\n",
    "            SemanticConfiguration(\n",
    "                name=\"semantic_config\",\n",
    "                prioritized_fields=SemanticPrioritizedFields(\n",
    "                    content_fields=[\n",
    "                        SemanticField(field_name=\"chunk\")\n",
    "                    ]\n",
    "                )\n",
    "            )\n",
    "        ]\n",
    "    )\n",
    ")\n",
    "\n",
    "index_client = SearchIndexClient(endpoint=endpoint, credential=credential)\n",
    "index_client.create_or_update_index(index)\n",
    "print(f\"Index '{index_name}' created or updated successfully\")"
   ]
  },
  {
   "cell_type": "code",
   "execution_count": 42,
   "id": "2d19b020",
   "metadata": {},
   "outputs": [
    {
     "data": {
      "text/plain": [
       "<azure.search.documents.indexes.models._models.SearchIndexerSkillset at 0x26f0cce44d0>"
      ]
     },
     "execution_count": 42,
     "metadata": {},
     "output_type": "execute_result"
    }
   ],
   "source": [
    "split_skill = SplitSkill(\n",
    "        description=\"Split skill to chunk documents\",\n",
    "        text_split_mode=\"pages\",\n",
    "        context=\"/document\",\n",
    "        maximum_page_length=300,\n",
    "        page_overlap_length=20,\n",
    "        inputs=[\n",
    "            InputFieldMappingEntry(name=\"text\", source=\"/document/Description\")\n",
    "        ],\n",
    "        outputs=[\n",
    "            OutputFieldMappingEntry(name=\"textItems\", target_name=\"pages\")\n",
    "        ]    \n",
    "    )\n",
    "\n",
    "embedding_skill = AzureOpenAIEmbeddingSkill(\n",
    "        description=\"Skill to generate embeddings via Azure OpenAI\",  \n",
    "        context=\"/document/pages/*\", \n",
    "        resource_url=azure_openai_endpoint,\n",
    "        deployment_name=azure_openai_embedding_deployment,\n",
    "        model_name=azure_openai_embedding_model,\n",
    "        inputs=[\n",
    "            InputFieldMappingEntry(name=\"text\", source=\"/document/pages/*\")\n",
    "        ],\n",
    "        outputs=[\n",
    "            OutputFieldMappingEntry(name=\"embedding\", target_name=\"vector\")\n",
    "        ]\n",
    "    )\n",
    "\n",
    "index_projections = SearchIndexerIndexProjection(\n",
    "        selectors=[\n",
    "            SearchIndexerIndexProjectionSelector(\n",
    "                target_index_name=index_name,\n",
    "                parent_key_field_name=\"db_CustomerID\",\n",
    "                source_context=\"/document/pages/*\",\n",
    "                mappings=[\n",
    "                    InputFieldMappingEntry(name=\"chunk\", source=\"/document/pages/*\"),\n",
    "                    InputFieldMappingEntry(name=\"vector\", source=\"/document/pages/*/vector\"),\n",
    "                    InputFieldMappingEntry(name=\"db_FirstName\", source=\"/document/FirstName\"),\n",
    "                    InputFieldMappingEntry(name=\"db_CompanyName\", source=\"/document/CompanyName\")                    \n",
    "                ]\n",
    "            )\n",
    "        ]\n",
    "    )\n",
    "\n",
    "skillset = SearchIndexerSkillset(\n",
    "        name=skillset_name,\n",
    "        description=\"Skillset for Azure AI Search with Azure OpenAI Embedding\",\n",
    "        skills=[\n",
    "            split_skill,\n",
    "            embedding_skill\n",
    "        ],\n",
    "        index_projection=index_projections\n",
    "    )\n",
    "c = SearchIndexerClient(endpoint, credential)  \n",
    "c.create_or_update_skillset(skillset) "
   ]
  },
  {
   "cell_type": "code",
   "execution_count": 47,
   "id": "3ddcc632",
   "metadata": {},
   "outputs": [
    {
     "ename": "HttpResponseError",
     "evalue": "() A network-related or instance-specific error occurred while establishing a connection to SQL Server. The server was not found or was not accessible. Verify that the instance name is correct and that SQL Server is configured to allow remote connections. (provider: TCP Provider, error: 0 - No such host is known.)\nCode: \nMessage: A network-related or instance-specific error occurred while establishing a connection to SQL Server. The server was not found or was not accessible. Verify that the instance name is correct and that SQL Server is configured to allow remote connections. (provider: TCP Provider, error: 0 - No such host is known.)",
     "output_type": "error",
     "traceback": [
      "\u001b[31m---------------------------------------------------------------------------\u001b[39m",
      "\u001b[31mHttpResponseError\u001b[39m                         Traceback (most recent call last)",
      "\u001b[36mCell\u001b[39m\u001b[36m \u001b[39m\u001b[32mIn[47]\u001b[39m\u001b[32m, line 10\u001b[39m\n\u001b[32m      1\u001b[39m indexer = SearchIndexer(\n\u001b[32m      2\u001b[39m         name=indexer_name,\n\u001b[32m      3\u001b[39m         description=\u001b[33m\"\u001b[39m\u001b[33mIndexer to index data from Azure SQL DB, chunk text and vectorize it\u001b[39m\u001b[33m\"\u001b[39m,\n\u001b[32m   (...)\u001b[39m\u001b[32m      6\u001b[39m         data_source_name=data_source_name\n\u001b[32m      7\u001b[39m     )\n\u001b[32m      9\u001b[39m indexer_c = SearchIndexerClient(endpoint, credential)\n\u001b[32m---> \u001b[39m\u001b[32m10\u001b[39m indexer_result = \u001b[43mindexer_c\u001b[49m\u001b[43m.\u001b[49m\u001b[43mcreate_or_update_indexer\u001b[49m\u001b[43m(\u001b[49m\u001b[43mindexer\u001b[49m\u001b[43m)\u001b[49m\n",
      "\u001b[36mFile \u001b[39m\u001b[32mc:\\Users\\podas\\AppData\\Local\\anaconda3\\envs\\study\\Lib\\site-packages\\azure\\core\\tracing\\decorator.py:119\u001b[39m, in \u001b[36mdistributed_trace.<locals>.decorator.<locals>.wrapper_use_tracer\u001b[39m\u001b[34m(*args, **kwargs)\u001b[39m\n\u001b[32m    117\u001b[39m \u001b[38;5;66;03m# If tracing is disabled globally and user didn't explicitly enable it, don't trace.\u001b[39;00m\n\u001b[32m    118\u001b[39m \u001b[38;5;28;01mif\u001b[39;00m user_enabled \u001b[38;5;129;01mis\u001b[39;00m \u001b[38;5;28;01mFalse\u001b[39;00m \u001b[38;5;129;01mor\u001b[39;00m (\u001b[38;5;129;01mnot\u001b[39;00m tracing_enabled \u001b[38;5;129;01mand\u001b[39;00m user_enabled \u001b[38;5;129;01mis\u001b[39;00m \u001b[38;5;28;01mNone\u001b[39;00m):\n\u001b[32m--> \u001b[39m\u001b[32m119\u001b[39m     \u001b[38;5;28;01mreturn\u001b[39;00m \u001b[43mfunc\u001b[49m\u001b[43m(\u001b[49m\u001b[43m*\u001b[49m\u001b[43margs\u001b[49m\u001b[43m,\u001b[49m\u001b[43m \u001b[49m\u001b[43m*\u001b[49m\u001b[43m*\u001b[49m\u001b[43mkwargs\u001b[49m\u001b[43m)\u001b[49m\n\u001b[32m    121\u001b[39m \u001b[38;5;66;03m# Merge span is parameter is set, but only if no explicit parent are passed\u001b[39;00m\n\u001b[32m    122\u001b[39m \u001b[38;5;28;01mif\u001b[39;00m merge_span \u001b[38;5;129;01mand\u001b[39;00m \u001b[38;5;129;01mnot\u001b[39;00m passed_in_parent:\n",
      "\u001b[36mFile \u001b[39m\u001b[32mc:\\Users\\podas\\AppData\\Local\\anaconda3\\envs\\study\\Lib\\site-packages\\azure\\search\\documents\\indexes\\_search_indexer_client.py:140\u001b[39m, in \u001b[36mSearchIndexerClient.create_or_update_indexer\u001b[39m\u001b[34m(self, indexer, match_condition, skip_indexer_reset_requirement_for_cache, disable_cache_reprocessing_change_detection, **kwargs)\u001b[39m\n\u001b[32m    138\u001b[39m name = indexer.name\n\u001b[32m    139\u001b[39m patched_indexer = indexer._to_generated()  \u001b[38;5;66;03m# pylint:disable=protected-access\u001b[39;00m\n\u001b[32m--> \u001b[39m\u001b[32m140\u001b[39m result = \u001b[38;5;28;43mself\u001b[39;49m\u001b[43m.\u001b[49m\u001b[43m_client\u001b[49m\u001b[43m.\u001b[49m\u001b[43mindexers\u001b[49m\u001b[43m.\u001b[49m\u001b[43mcreate_or_update\u001b[49m\u001b[43m(\u001b[49m\n\u001b[32m    141\u001b[39m \u001b[43m    \u001b[49m\u001b[43mindexer_name\u001b[49m\u001b[43m=\u001b[49m\u001b[43mname\u001b[49m\u001b[43m,\u001b[49m\n\u001b[32m    142\u001b[39m \u001b[43m    \u001b[49m\u001b[43mindexer\u001b[49m\u001b[43m=\u001b[49m\u001b[43mpatched_indexer\u001b[49m\u001b[43m,\u001b[49m\n\u001b[32m    143\u001b[39m \u001b[43m    \u001b[49m\u001b[43mprefer\u001b[49m\u001b[43m=\u001b[49m\u001b[33;43m\"\u001b[39;49m\u001b[33;43mreturn=representation\u001b[39;49m\u001b[33;43m\"\u001b[39;49m\u001b[43m,\u001b[49m\n\u001b[32m    144\u001b[39m \u001b[43m    \u001b[49m\u001b[43merror_map\u001b[49m\u001b[43m=\u001b[49m\u001b[43merror_map\u001b[49m\u001b[43m,\u001b[49m\n\u001b[32m    145\u001b[39m \u001b[43m    \u001b[49m\u001b[43mskip_indexer_reset_requirement_for_cache\u001b[49m\u001b[43m=\u001b[49m\u001b[43mskip_indexer_reset_requirement_for_cache\u001b[49m\u001b[43m,\u001b[49m\n\u001b[32m    146\u001b[39m \u001b[43m    \u001b[49m\u001b[43mdisable_cache_reprocessing_change_detection\u001b[49m\u001b[43m=\u001b[49m\u001b[43mdisable_cache_reprocessing_change_detection\u001b[49m\u001b[43m,\u001b[49m\n\u001b[32m    147\u001b[39m \u001b[43m    \u001b[49m\u001b[43m*\u001b[49m\u001b[43m*\u001b[49m\u001b[43mkwargs\u001b[49m\n\u001b[32m    148\u001b[39m \u001b[43m\u001b[49m\u001b[43m)\u001b[49m\n\u001b[32m    149\u001b[39m \u001b[38;5;28;01mreturn\u001b[39;00m cast(SearchIndexer, SearchIndexer._from_generated(result))\n",
      "\u001b[36mFile \u001b[39m\u001b[32mc:\\Users\\podas\\AppData\\Local\\anaconda3\\envs\\study\\Lib\\site-packages\\azure\\core\\tracing\\decorator.py:119\u001b[39m, in \u001b[36mdistributed_trace.<locals>.decorator.<locals>.wrapper_use_tracer\u001b[39m\u001b[34m(*args, **kwargs)\u001b[39m\n\u001b[32m    117\u001b[39m \u001b[38;5;66;03m# If tracing is disabled globally and user didn't explicitly enable it, don't trace.\u001b[39;00m\n\u001b[32m    118\u001b[39m \u001b[38;5;28;01mif\u001b[39;00m user_enabled \u001b[38;5;129;01mis\u001b[39;00m \u001b[38;5;28;01mFalse\u001b[39;00m \u001b[38;5;129;01mor\u001b[39;00m (\u001b[38;5;129;01mnot\u001b[39;00m tracing_enabled \u001b[38;5;129;01mand\u001b[39;00m user_enabled \u001b[38;5;129;01mis\u001b[39;00m \u001b[38;5;28;01mNone\u001b[39;00m):\n\u001b[32m--> \u001b[39m\u001b[32m119\u001b[39m     \u001b[38;5;28;01mreturn\u001b[39;00m \u001b[43mfunc\u001b[49m\u001b[43m(\u001b[49m\u001b[43m*\u001b[49m\u001b[43margs\u001b[49m\u001b[43m,\u001b[49m\u001b[43m \u001b[49m\u001b[43m*\u001b[49m\u001b[43m*\u001b[49m\u001b[43mkwargs\u001b[49m\u001b[43m)\u001b[49m\n\u001b[32m    121\u001b[39m \u001b[38;5;66;03m# Merge span is parameter is set, but only if no explicit parent are passed\u001b[39;00m\n\u001b[32m    122\u001b[39m \u001b[38;5;28;01mif\u001b[39;00m merge_span \u001b[38;5;129;01mand\u001b[39;00m \u001b[38;5;129;01mnot\u001b[39;00m passed_in_parent:\n",
      "\u001b[36mFile \u001b[39m\u001b[32mc:\\Users\\podas\\AppData\\Local\\anaconda3\\envs\\study\\Lib\\site-packages\\azure\\search\\documents\\indexes\\_generated\\operations\\_indexers_operations.py:981\u001b[39m, in \u001b[36mIndexersOperations.create_or_update\u001b[39m\u001b[34m(self, indexer_name, prefer, indexer, if_match, if_none_match, skip_indexer_reset_requirement_for_cache, disable_cache_reprocessing_change_detection, request_options, **kwargs)\u001b[39m\n\u001b[32m    979\u001b[39m     map_error(status_code=response.status_code, response=response, error_map=error_map)\n\u001b[32m    980\u001b[39m     error = \u001b[38;5;28mself\u001b[39m._deserialize.failsafe_deserialize(_models.ErrorResponse, pipeline_response)\n\u001b[32m--> \u001b[39m\u001b[32m981\u001b[39m     \u001b[38;5;28;01mraise\u001b[39;00m HttpResponseError(response=response, model=error)\n\u001b[32m    983\u001b[39m deserialized = \u001b[38;5;28mself\u001b[39m._deserialize(\u001b[33m\"\u001b[39m\u001b[33mSearchIndexer\u001b[39m\u001b[33m\"\u001b[39m, pipeline_response.http_response)\n\u001b[32m    985\u001b[39m \u001b[38;5;28;01mif\u001b[39;00m \u001b[38;5;28mcls\u001b[39m:\n",
      "\u001b[31mHttpResponseError\u001b[39m: () A network-related or instance-specific error occurred while establishing a connection to SQL Server. The server was not found or was not accessible. Verify that the instance name is correct and that SQL Server is configured to allow remote connections. (provider: TCP Provider, error: 0 - No such host is known.)\nCode: \nMessage: A network-related or instance-specific error occurred while establishing a connection to SQL Server. The server was not found or was not accessible. Verify that the instance name is correct and that SQL Server is configured to allow remote connections. (provider: TCP Provider, error: 0 - No such host is known.)"
     ]
    }
   ],
   "source": [
    "indexer = SearchIndexer(\n",
    "        name=indexer_name,\n",
    "        description=\"Indexer to index data from Azure SQL DB, chunk text and vectorize it\",\n",
    "        skillset_name=index_name + \"-skillset\",\n",
    "        target_index_name=index_name,\n",
    "        data_source_name=data_source_name\n",
    "    )\n",
    "\n",
    "indexer_c = SearchIndexerClient(endpoint, credential)\n",
    "indexer_result = indexer_c.create_or_update_indexer(indexer)\n"
   ]
  },
  {
   "cell_type": "code",
   "execution_count": null,
   "id": "51b86ffa",
   "metadata": {},
   "outputs": [],
   "source": [
    "indexer_c.run_indexer(indexer_name) #add waiting time for bigger dbs, insert status check\n",
    "logging.info(f\"Running indexer {indexer_name} is finished\")"
   ]
  }
 ],
 "metadata": {
  "kernelspec": {
   "display_name": "study",
   "language": "python",
   "name": "python3"
  },
  "language_info": {
   "codemirror_mode": {
    "name": "ipython",
    "version": 3
   },
   "file_extension": ".py",
   "mimetype": "text/x-python",
   "name": "python",
   "nbconvert_exporter": "python",
   "pygments_lexer": "ipython3",
   "version": "3.11.9"
  }
 },
 "nbformat": 4,
 "nbformat_minor": 5
}
