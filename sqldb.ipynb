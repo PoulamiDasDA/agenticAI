{
 "cells": [
  {
   "cell_type": "code",
   "execution_count": 14,
   "id": "f5f17459",
   "metadata": {},
   "outputs": [],
   "source": [
    "from dotenv import load_dotenv\n",
    "from azure.identity import DefaultAzureCredential, get_bearer_token_provider\n",
    "import logging\n",
    "import pyodbc\n",
    "import pandas\n",
    "import os\n",
    "from azure.core.credentials import AzureKeyCredential\n",
    "from azure.search.documents.indexes import SearchIndexerClient\n",
    "from azure.search.documents.indexes import SearchIndexClient\n",
    "from azure.search.documents.indexes.models import (\n",
    "    SearchIndexerDataContainer, SearchIndexerDataSourceConnection)\n",
    "from azure.search.documents.indexes.models import (\n",
    "    SearchField, SearchFieldDataType, \n",
    "    VectorSearch, HnswAlgorithmConfiguration, VectorSearchProfile, AzureOpenAIVectorizer, AzureOpenAIVectorizerParameters,\n",
    "    SearchIndex, HnswParameters, VectorSearchAlgorithmMetric, SemanticConfiguration, SemanticPrioritizedFields, \n",
    "    SemanticField, SemanticSearch, ExhaustiveKnnAlgorithmConfiguration, ExhaustiveKnnParameters,FieldMapping)\n",
    "from azure.search.documents.indexes.models import (  \n",
    "SplitSkill, InputFieldMappingEntry, OutputFieldMappingEntry,AzureOpenAIEmbeddingSkill, SearchIndexerIndexProjection, SearchIndexerIndexProjectionSelector,\n",
    "SearchIndexerIndexProjectionsParameters,SearchIndexerSkill,SearchIndexerSkillset,SearchIndexer\n",
    ")"
   ]
  },
  {
   "cell_type": "code",
   "execution_count": 15,
   "id": "79f2c13b",
   "metadata": {},
   "outputs": [],
   "source": [
    "load_dotenv(override=True)\n",
    "\n",
    "sql_server = os.environ.get(\"SQL_SERVER_NAME\")\n",
    "database_name = os.environ.get(\"SQL_DATABASE_NAME\")\n",
    "username = os.environ.get(\"SQL_USERNAME\")\n",
    "password = os.environ.get(\"SQL_PASSWORD\")"
   ]
  },
  {
   "cell_type": "code",
   "execution_count": 16,
   "id": "8c8e7857",
   "metadata": {},
   "outputs": [],
   "source": [
    "azure_openai_endpoint = os.environ[\"AZURE_OPENAI_ENDPOINT\"]\n",
    "azure_openai_gpt_deployment = os.getenv(\"AZURE_OPENAI_GPT_DEPLOYMENT\", \"gpt-4.1-mini\")\n",
    "azure_openai_gpt_model = os.getenv(\"AZURE_OPENAI_GPT_MODEL\", \"gpt-4.1-mini\")\n",
    "azure_openai_embedding_deployment = os.getenv(\"AZURE_OPENAI_EMBEDDING_DEPLOYMENT\", \"text-embedding-3-large\")\n",
    "azure_openai_embedding_model = os.getenv(\"AZURE_OPENAI_EMBEDDING_MODEL\", \"text-embedding-3-large\")"
   ]
  },
  {
   "cell_type": "code",
   "execution_count": 17,
   "id": "47aab4d2",
   "metadata": {},
   "outputs": [],
   "source": [
    "endpoint = os.environ[\"AZURE_SEARCH_ENDPOINT\"]\n",
    "# credential = DefaultAzureCredential(managed_identity_client_id  = \"4367ceb1-6348-41d1-92a1-b5583f2ec5de\")\n",
    "credential = AzureKeyCredential(\"Z9qrhCZDgy2NYcqxdaIAzbEZ8IeSrNnsQluoogM6N0AzSeD1Fr3z\")"
   ]
  },
  {
   "cell_type": "code",
   "execution_count": 18,
   "id": "62d84f0d",
   "metadata": {},
   "outputs": [
    {
     "data": {
      "text/plain": [
       "'salesltcustomer-azuresqlcon'"
      ]
     },
     "execution_count": 18,
     "metadata": {},
     "output_type": "execute_result"
    }
   ],
   "source": [
    "embedding_length = 3072\n",
    "table_name = '[SalesLT].[Customer]'\n",
    "data_source_name = f\"{table_name.replace('[','').replace(']','').replace('.','').lower()}-azuresqlcon\"\n",
    "data_source_name\n"
   ]
  },
  {
   "cell_type": "code",
   "execution_count": 19,
   "id": "3fc3b587",
   "metadata": {},
   "outputs": [],
   "source": [
    "sqltcpcon = f'Encrypt=True;TrustServerCertificate=False;Connection Timeout=30;Server=tcp:{sql_server};Database={database_name};User ID={username};Password={password};'\n",
    "\n",
    "aisearch = SearchIndexerClient(endpoint, credential)\n",
    "search_container = SearchIndexerDataContainer(name=table_name)\n",
    "\n",
    "data_source_connection = SearchIndexerDataSourceConnection(\n",
    "        name=data_source_name,\n",
    "        type=\"azuresql\",\n",
    "        connection_string=sqltcpcon,\n",
    "        container=search_container\n",
    "    )\n",
    "\n",
    "datacon = aisearch.create_or_update_data_source_connection(data_source_connection)\n",
    "logging.info(f\"Data source connection {datacon.name} created\")"
   ]
  },
  {
   "cell_type": "code",
   "execution_count": 20,
   "id": "309806ec",
   "metadata": {},
   "outputs": [],
   "source": [
    "index_name = 'sql-db-index'\n",
    "skillset_name = index_name + \"-skillset\"\n",
    "indexer_name = f\"{index_name}-indexer\""
   ]
  },
  {
   "cell_type": "code",
   "execution_count": 21,
   "id": "117520ae",
   "metadata": {},
   "outputs": [
    {
     "name": "stdout",
     "output_type": "stream",
     "text": [
      "Index 'sql-db-index' created or updated successfully\n"
     ]
    }
   ],
   "source": [
    "index = SearchIndex(\n",
    "    name=index_name,\n",
    "        fields=[\n",
    "            SearchField(name=\"Id\", type=SearchFieldDataType.String, key=True, analyzer_name=\"keyword\"),\n",
    "            SearchField(name=\"chunk\", type=SearchFieldDataType.String, sortable=False, filterable=False, facetable=False),\n",
    "            SearchField(name=\"vector\", type=SearchFieldDataType.Collection(SearchFieldDataType.Single), vector_search_dimensions=embedding_length, vector_search_profile_name=\"vectorsearch-profile\"),\n",
    "            SearchField(name=\"db_CustomerID\", type=SearchFieldDataType.String, sortable=True, filterable=True, facetable=True),\n",
    "            SearchField(name=\"db_FirstName\", type=SearchFieldDataType.String, sortable=True, filterable=True, facetable=True),\n",
    "            SearchField(name=\"db_CompanyName\", type=SearchFieldDataType.String, sortable=True, filterable=True, facetable=True)\n",
    "    ],\n",
    "    vector_search=VectorSearch(\n",
    "        profiles=[ \n",
    "            VectorSearchProfile(\n",
    "                name=\"vectorsearch-profile\",\n",
    "                algorithm_configuration_name=\"hnsw-config\",\n",
    "                vectorizer_name=\"azure_openai_text_3_large\" \n",
    "            ),\n",
    "            VectorSearchProfile(\n",
    "                name=\"exhaustiveknn-profile\",\n",
    "                algorithm_configuration_name=\"exhaustiveknn-config\",\n",
    "                vectorizer_name=\"azure_openai_text_3_large\"\n",
    "            )\n",
    "        ],\n",
    "        algorithms=[\n",
    "            HnswAlgorithmConfiguration(\n",
    "                name=\"hnsw-config\",\n",
    "                parameters=HnswParameters(  \n",
    "                    m=4,  \n",
    "                    ef_construction=400,  \n",
    "                    ef_search=500,  \n",
    "                    metric=VectorSearchAlgorithmMetric.COSINE,  \n",
    "                ),  \n",
    "            ),\n",
    "            ExhaustiveKnnAlgorithmConfiguration(\n",
    "                name=\"exhaustiveknn-config\",\n",
    "                parameters=ExhaustiveKnnParameters(\n",
    "                    metric=VectorSearchAlgorithmMetric.COSINE\n",
    "                )\n",
    "            )\n",
    "        ],\n",
    "        vectorizers=[\n",
    "            AzureOpenAIVectorizer(\n",
    "                vectorizer_name=\"azure_openai_text_3_large\",\n",
    "                kind=\"azureOpenAI\",\n",
    "                parameters=AzureOpenAIVectorizerParameters(\n",
    "                    resource_url=azure_openai_endpoint,\n",
    "                    deployment_name=azure_openai_embedding_deployment,\n",
    "                    model_name=azure_openai_embedding_model\n",
    "                )\n",
    "            )\n",
    "        ]\n",
    "    ),\n",
    "    semantic_search=SemanticSearch(\n",
    "        default_configuration_name=\"semantic_config\",\n",
    "        configurations=[\n",
    "            SemanticConfiguration(\n",
    "                name=\"semantic_config\",\n",
    "                prioritized_fields=SemanticPrioritizedFields(\n",
    "                    content_fields=[\n",
    "                        SemanticField(field_name=\"chunk\")\n",
    "                    ]\n",
    "                )\n",
    "            )\n",
    "        ]\n",
    "    )\n",
    ")\n",
    "\n",
    "index_client = SearchIndexClient(endpoint=endpoint, credential=credential)\n",
    "index_client.create_or_update_index(index)\n",
    "print(f\"Index '{index_name}' created or updated successfully\")"
   ]
  },
  {
   "cell_type": "code",
   "execution_count": 22,
   "id": "2d19b020",
   "metadata": {},
   "outputs": [
    {
     "data": {
      "text/plain": [
       "<azure.search.documents.indexes.models._models.SearchIndexerSkillset at 0x1f4abd21cd0>"
      ]
     },
     "execution_count": 22,
     "metadata": {},
     "output_type": "execute_result"
    }
   ],
   "source": [
    "split_skill = SplitSkill(\n",
    "        description=\"Split skill to chunk documents\",\n",
    "        text_split_mode=\"pages\",\n",
    "        context=\"/document\",\n",
    "        maximum_page_length=300,\n",
    "        page_overlap_length=20,\n",
    "        inputs=[\n",
    "            InputFieldMappingEntry(name=\"text\", source=\"/document/CompanyName\")\n",
    "        ],\n",
    "        outputs=[\n",
    "            OutputFieldMappingEntry(name=\"textItems\", target_name=\"pages\")\n",
    "        ]    \n",
    "    )\n",
    "\n",
    "embedding_skill = AzureOpenAIEmbeddingSkill(\n",
    "        description=\"Skill to generate embeddings via Azure OpenAI\",  \n",
    "        context=\"/document/pages/*\", \n",
    "        resource_url=azure_openai_endpoint,\n",
    "        deployment_name=azure_openai_embedding_deployment,\n",
    "        model_name=azure_openai_embedding_model,\n",
    "        inputs=[\n",
    "            InputFieldMappingEntry(name=\"text\", source=\"/document/pages/*\")\n",
    "        ],\n",
    "        outputs=[\n",
    "            OutputFieldMappingEntry(name=\"embedding\", target_name=\"vector\")\n",
    "        ]\n",
    "    )\n",
    "\n",
    "index_projections = SearchIndexerIndexProjection(\n",
    "        selectors=[\n",
    "            SearchIndexerIndexProjectionSelector(\n",
    "                target_index_name=index_name,\n",
    "                parent_key_field_name=\"db_CustomerID\",\n",
    "                source_context=\"/document/pages/*\",\n",
    "                mappings=[\n",
    "                    InputFieldMappingEntry(name=\"chunk\", source=\"/document/pages/*\"),\n",
    "                    InputFieldMappingEntry(name=\"vector\", source=\"/document/pages/*/vector\"),\n",
    "                    InputFieldMappingEntry(name=\"db_FirstName\", source=\"/document/FirstName\"),\n",
    "                    InputFieldMappingEntry(name=\"db_CompanyName\", source=\"/document/CompanyName\")                    \n",
    "                ]\n",
    "            )\n",
    "        ]\n",
    "    )\n",
    "\n",
    "skillset = SearchIndexerSkillset(\n",
    "        name=skillset_name,\n",
    "        description=\"Skillset for Azure AI Search with Azure OpenAI Embedding\",\n",
    "        skills=[\n",
    "            split_skill,\n",
    "            embedding_skill\n",
    "        ],\n",
    "        index_projection=index_projections\n",
    "    )\n",
    "c = SearchIndexerClient(endpoint, credential)  \n",
    "c.create_or_update_skillset(skillset) "
   ]
  },
  {
   "cell_type": "code",
   "execution_count": 23,
   "id": "3ddcc632",
   "metadata": {},
   "outputs": [],
   "source": [
    "indexer = SearchIndexer(\n",
    "        name=indexer_name,\n",
    "        description=\"Indexer to index data from Azure SQL DB, chunk text and vectorize it\",\n",
    "        skillset_name=index_name + \"-skillset\",\n",
    "        target_index_name=index_name,\n",
    "        data_source_name=data_source_name,\n",
    "        field_mappings=[\n",
    "            FieldMapping(\n",
    "                    source_field_name=\"CustomerID\",\n",
    "                    target_field_name=\"Id\",\n",
    "                )]\n",
    "    )\n",
    "\n",
    "indexer_c = SearchIndexerClient(endpoint, credential)\n",
    "indexer_result = indexer_c.create_or_update_indexer(indexer)\n"
   ]
  },
  {
   "cell_type": "code",
   "execution_count": 25,
   "id": "51b86ffa",
   "metadata": {},
   "outputs": [],
   "source": [
    "indexer_c.run_indexer(indexer_name) #add waiting time for bigger dbs, insert status check\n",
    "logging.info(f\"Running indexer {indexer_name} is finished\")"
   ]
  },
  {
   "cell_type": "code",
   "execution_count": null,
   "id": "cba63e83",
   "metadata": {},
   "outputs": [],
   "source": [
    "# Check if the index exists and get its status\n",
    "from azure.search.documents import SearchClient\n",
    "\n",
    "# Get index information\n",
    "try:\n",
    "    index_info = index_client.get_index(index_name)\n",
    "    print(f\"✅ Index '{index_name}' exists!\")\n",
    "    print(f\"   Fields: {len(index_info.fields)} fields\")\n",
    "    print(f\"   Vector search enabled: {index_info.vector_search is not None}\")\n",
    "    print(f\"   Semantic search enabled: {index_info.semantic_search is not None}\")\n",
    "except Exception as e:\n",
    "    print(f\"❌ Index not found: {e}\")\n",
    "\n",
    "# Check indexer status\n",
    "try:\n",
    "    indexer_status = indexer_c.get_indexer_status(indexer_name)\n",
    "    print(f\"\\n📊 Indexer Status:\")\n",
    "    print(f\"   Status: {indexer_status.status}\")\n",
    "    print(f\"   Last result: {indexer_status.last_result.status if indexer_status.last_result else 'None'}\")\n",
    "    if indexer_status.last_result:\n",
    "        print(f\"   Items processed: {indexer_status.last_result.item_count}\")\n",
    "        print(f\"   Errors: {indexer_status.last_result.error_count}\")\n",
    "except Exception as e:\n",
    "    print(f\"❌ Indexer status error: {e}\")\n",
    "\n",
    "# Query the index to see some data\n",
    "try:\n",
    "    search_client = SearchClient(endpoint, index_name, credential)\n",
    "    results = search_client.search(\"*\", top=3)\n",
    "    \n",
    "    print(f\"\\n🔍 Sample data from index:\")\n",
    "    for i, result in enumerate(results, 1):\n",
    "        print(f\"   Document {i}:\")\n",
    "        print(f\"     ID: {result.get('Id', 'N/A')}\")\n",
    "        print(f\"     Customer: {result.get('db_FirstName', 'N/A')}\")\n",
    "        print(f\"     Company: {result.get('db_CompanyName', 'N/A')}\")\n",
    "        print(f\"     Chunk: {result.get('chunk', 'N/A')[:50]}...\")\n",
    "        print()\n",
    "        \n",
    "except Exception as e:\n",
    "    print(f\"❌ Query error: {e}\")\n",
    "\n",
    "print(f\"\\n🌐 You can also view this index at:\")\n",
    "print(f\"   Azure Portal: {endpoint.replace('https://', 'https://portal.azure.com/#@/resource')}\")\n",
    "print(f\"   Index name: {index_name}\")\n",
    "print(f\"   Direct URL: {endpoint}/indexes/{index_name}\")"
   ]
  }
 ],
 "metadata": {
  "kernelspec": {
   "display_name": "Python 3",
   "language": "python",
   "name": "python3"
  },
  "language_info": {
   "codemirror_mode": {
    "name": "ipython",
    "version": 3
   },
   "file_extension": ".py",
   "mimetype": "text/x-python",
   "name": "python",
   "nbconvert_exporter": "python",
   "pygments_lexer": "ipython3",
   "version": "3.13.5"
  }
 },
 "nbformat": 4,
 "nbformat_minor": 5
}
