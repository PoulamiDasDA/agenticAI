{
 "cells": [
  {
   "cell_type": "code",
   "execution_count": null,
   "id": "2219056a",
   "metadata": {},
   "outputs": [],
   "source": [
    "from dotenv import load_dotenv\n",
    "from azure.identity import DefaultAzureCredential, get_bearer_token_provider\n",
    "import os\n",
    "from azure.ai.projects import AIProjectClient\n",
    "from azure.core.credentials import AzureKeyCredential \n",
    "from azure.ai.agents.models import FunctionTool, ToolSet, ListSortOrder\n",
    "from azure.ai.agents.models import AgentsNamedToolChoice, AgentsNamedToolChoiceType, FunctionName\n",
    "from azure.search.documents.agent import KnowledgeAgentRetrievalClient\n",
    "from azure.search.documents.agent.models import KnowledgeAgentRetrievalRequest, KnowledgeAgentMessage, KnowledgeAgentMessageTextContent, KnowledgeAgentIndexParams\n"
   ]
  },
  {
   "cell_type": "code",
   "execution_count": null,
   "id": "74ecab17",
   "metadata": {},
   "outputs": [],
   "source": [
    "\n",
    "\n",
    "load_dotenv(override=True) # take environment variables from .env.\n",
    "\n",
    "\n",
    "project_endpoint = os.environ[\"PROJECT_ENDPOINT\"]\n",
    "agent_model = os.getenv(\"AGENT_MODEL\", \"gpt-4.1-mini\")\n",
    "endpoint = os.environ[\"AZURE_SEARCH_ENDPOINT\"]\n",
    "openai_key = os.getenv(\"AZURE_OPENAI_KEY\")\n",
    "managed_identity_client_id = os.getenv(\"MANAGED_IDENTITY_CLIENT_ID\")\n",
    "new_credential = AzureKeyCredential(openai_key)\n",
    "credential = DefaultAzureCredential(managed_identity_client_id=managed_identity_client_id)\n",
    "# token_provider = get_bearer_token_provider(credential, \"https://search.azure.com/.default\")\n",
    "index_name = os.getenv(\"AZURE_SEARCH_INDEX\", \"earth_at_night\")\n",
    "azure_openai_endpoint = os.environ[\"AZURE_OPENAI_ENDPOINT\"]\n",
    "azure_openai_gpt_deployment = os.getenv(\"AZURE_OPENAI_GPT_DEPLOYMENT\", \"gpt-4.1-mini\")\n",
    "azure_openai_gpt_model = os.getenv(\"AZURE_OPENAI_GPT_MODEL\", \"gpt-4.1-mini\")\n",
    "azure_openai_embedding_deployment = os.getenv(\"AZURE_OPENAI_EMBEDDING_DEPLOYMENT\", \"text-embedding-3-large\")\n",
    "azure_openai_embedding_model = os.getenv(\"AZURE_OPENAI_EMBEDDING_MODEL\", \"text-embedding-3-large\")\n",
    "agent_name = os.getenv(\"AZURE_SEARCH_AGENT_NAME\", \"test-agent\")"
   ]
  },
  {
   "cell_type": "code",
   "execution_count": 14,
   "id": "87ab16c6",
   "metadata": {},
   "outputs": [
    {
     "data": {
      "text/plain": [
       "[{'id': 'asst_VsfVa3hCzB0ITiR1w7MQ9mMk', 'object': 'assistant', 'created_at': 1754185348, 'name': 'test-agent', 'description': None, 'model': 'gpt-4.1-mini', 'instructions': '\\nA Q&A agent that can answer questions about the Earth at night.\\nSources have a JSON format with a ref_id that must be cited in the answer using the format [ref_id].\\nIf you do not have the answer, respond with \"I don\\'t know\".\\n', 'tools': [], 'top_p': 1.0, 'temperature': 1.0, 'tool_resources': {}, 'metadata': {}, 'response_format': 'auto'},\n",
       " {'id': 'asst_3PbP9kqQZpAiRvoSeEiWq4iT', 'object': 'assistant', 'created_at': 1754185188, 'name': 'test-agent', 'description': None, 'model': 'gpt-4.1-mini', 'instructions': '\\nA Q&A agent that can answer questions about the Earth at night.\\nSources have a JSON format with a ref_id that must be cited in the answer using the format [ref_id].\\nIf you do not have the answer, respond with \"I don\\'t know\".\\n', 'tools': [], 'top_p': 1.0, 'temperature': 1.0, 'tool_resources': {}, 'metadata': {}, 'response_format': 'auto'},\n",
       " {'id': 'asst_3tw8chqAJrTlXrFS7UNZJBHZ', 'object': 'assistant', 'created_at': 1754184559, 'name': 'test-agent', 'description': None, 'model': 'gpt-4.1-mini', 'instructions': '\\nA Q&A agent that can answer questions about the Earth at night.\\nSources have a JSON format with a ref_id that must be cited in the answer using the format [ref_id].\\nIf you do not have the answer, respond with \"I don\\'t know\".\\n', 'tools': [], 'top_p': 1.0, 'temperature': 1.0, 'tool_resources': {}, 'metadata': {}, 'response_format': 'auto'},\n",
       " {'id': 'asst_h7fE6wi7pIlSiF5rl3XAon7x', 'object': 'assistant', 'created_at': 1754184264, 'name': 'test-agent', 'description': None, 'model': 'gpt-4.1-mini', 'instructions': '\\nA Q&A agent that can answer questions about the Earth at night.\\nSources have a JSON format with a ref_id that must be cited in the answer using the format [ref_id].\\nIf you do not have the answer, respond with \"I don\\'t know\".\\n', 'tools': [], 'top_p': 1.0, 'temperature': 1.0, 'tool_resources': {}, 'metadata': {}, 'response_format': 'auto'},\n",
       " {'id': 'asst_Jj13d9kq8gmoGiYUMJCxhgVX', 'object': 'assistant', 'created_at': 1754183699, 'name': 'test-agent', 'description': None, 'model': 'gpt-4o', 'instructions': '\\nA Q&A agent that can answer questions about the Earth at night.\\nSources have a JSON format with a ref_id that must be cited in the answer using the format [ref_id].\\nIf you do not have the answer, respond with \"I don\\'t know\".\\n', 'tools': [], 'top_p': 1.0, 'temperature': 1.0, 'tool_resources': {}, 'metadata': {}, 'response_format': 'auto'},\n",
       " {'id': 'asst_ZEKC4CfWClbt26SenhgvFvHx', 'object': 'assistant', 'created_at': 1754183170, 'name': 'test-agent', 'description': None, 'model': 'gpt-4o', 'instructions': '\\nA Q&A agent that can answer questions about the Earth at night.\\nSources have a JSON format with a ref_id that must be cited in the answer using the format [ref_id].\\nIf you do not have the answer, respond with \"I don\\'t know\".\\n', 'tools': [], 'top_p': 1.0, 'temperature': 1.0, 'tool_resources': {}, 'metadata': {}, 'response_format': 'auto'},\n",
       " {'id': 'asst_ZPC9xnDf2uXxdkSvuVho2Dnw', 'object': 'assistant', 'created_at': 1754182743, 'name': 'test-agent', 'description': None, 'model': 'gpt-4o', 'instructions': '\\nA Q&A agent that can answer questions about the Earth at night.\\nSources have a JSON format with a ref_id that must be cited in the answer using the format [ref_id].\\nIf you do not have the answer, respond with \"I don\\'t know\".\\n', 'tools': [], 'top_p': 1.0, 'temperature': 1.0, 'tool_resources': {}, 'metadata': {}, 'response_format': 'auto'},\n",
       " {'id': 'asst_Z2dNcxyDXQlQrGwCMGdv2oPP', 'object': 'assistant', 'created_at': 1754182359, 'name': 'test-agent', 'description': None, 'model': 'gpt-4o', 'instructions': '\\nA Q&A agent that can answer questions about the Earth at night.\\nSources have a JSON format with a ref_id that must be cited in the answer using the format [ref_id].\\nIf you do not have the answer, respond with \"I don\\'t know\".\\n', 'tools': [], 'top_p': 1.0, 'temperature': 1.0, 'tool_resources': {}, 'metadata': {}, 'response_format': 'auto'},\n",
       " {'id': 'asst_CbpU3mAa9W3ggLmcmchRi9Xi', 'object': 'assistant', 'created_at': 1754182306, 'name': 'test-agent', 'description': None, 'model': 'gpt-4o', 'instructions': '\\nA Q&A agent that can answer questions about the Earth at night.\\nSources have a JSON format with a ref_id that must be cited in the answer using the format [ref_id].\\nIf you do not have the answer, respond with \"I don\\'t know\".\\n', 'tools': [], 'top_p': 1.0, 'temperature': 1.0, 'tool_resources': {}, 'metadata': {}, 'response_format': 'auto'},\n",
       " {'id': 'asst_ZYNwiCU91cOKmc5jWYqy2ewv', 'object': 'assistant', 'created_at': 1754181853, 'name': 'test-agent', 'description': None, 'model': 'gpt-4o', 'instructions': '\\nA Q&A agent that can answer questions about the Earth at night.\\nSources have a JSON format with a ref_id that must be cited in the answer using the format [ref_id].\\nIf you do not have the answer, respond with \"I don\\'t know\".\\n', 'tools': [], 'top_p': 1.0, 'temperature': 1.0, 'tool_resources': {}, 'metadata': {}, 'response_format': 'auto'},\n",
       " {'id': 'asst_Vh9P5RUz4PeWhBZHekStn53G', 'object': 'assistant', 'created_at': 1754179976, 'name': 'test-agent', 'description': None, 'model': 'gpt-4o', 'instructions': '\\nA Q&A agent that can answer questions about the Earth at night.\\nSources have a JSON format with a ref_id that must be cited in the answer using the format [ref_id].\\nIf you do not have the answer, respond with \"I don\\'t know\".\\n', 'tools': [], 'top_p': 1.0, 'temperature': 1.0, 'tool_resources': {}, 'metadata': {}, 'response_format': 'auto'},\n",
       " {'id': 'asst_LE9NtqgRaANHUo4f7TbdQw5t', 'object': 'assistant', 'created_at': 1754179602, 'name': 'test-agent', 'description': None, 'model': 'gpt-4o', 'instructions': '\\nA Q&A agent that can answer questions about the Earth at night.\\nSources have a JSON format with a ref_id that must be cited in the answer using the format [ref_id].\\nIf you do not have the answer, respond with \"I don\\'t know\".\\n', 'tools': [], 'top_p': 1.0, 'temperature': 1.0, 'tool_resources': {}, 'metadata': {}, 'response_format': 'auto'},\n",
       " {'id': 'asst_qgQ2LWA5ixJp8wNlPP34pQze', 'object': 'assistant', 'created_at': 1754179166, 'name': 'test-agent', 'description': None, 'model': 'gpt-4o', 'instructions': '\\nA Q&A agent that can answer questions about the Earth at night.\\nSources have a JSON format with a ref_id that must be cited in the answer using the format [ref_id].\\nIf you do not have the answer, respond with \"I don\\'t know\".\\n', 'tools': [], 'top_p': 1.0, 'temperature': 1.0, 'tool_resources': {}, 'metadata': {}, 'response_format': 'auto'},\n",
       " {'id': 'asst_Fv5d3tTh6VBwajyAGcPAxow3', 'object': 'assistant', 'created_at': 1754178956, 'name': 'test-agent', 'description': None, 'model': 'gpt-4o', 'instructions': '\\nA Q&A agent that can answer questions about the Earth at night.\\nSources have a JSON format with a ref_id that must be cited in the answer using the format [ref_id].\\nIf you do not have the answer, respond with \"I don\\'t know\".\\n', 'tools': [], 'top_p': 1.0, 'temperature': 1.0, 'tool_resources': {}, 'metadata': {}, 'response_format': 'auto'},\n",
       " {'id': 'asst_IC4U3p0O7YofRnof0fFGXXMW', 'object': 'assistant', 'created_at': 1754178597, 'name': 'earth-search-agent', 'description': None, 'model': 'gpt-4o', 'instructions': '\\nA Q&A agent that can answer questions about the Earth at night.\\nSources have a JSON format with a ref_id that must be cited in the answer using the format [ref_id].\\nIf you do not have the answer, respond with \"I don\\'t know\".\\n', 'tools': [], 'top_p': 1.0, 'temperature': 1.0, 'tool_resources': {}, 'metadata': {}, 'response_format': 'auto'},\n",
       " {'id': 'asst_LqtdoX85EYQFa8mR5pWq0lB3', 'object': 'assistant', 'created_at': 1754178329, 'name': 'earth-search-agent', 'description': None, 'model': 'gpt-4o', 'instructions': '\\nA Q&A agent that can answer questions about the Earth at night.\\nSources have a JSON format with a ref_id that must be cited in the answer using the format [ref_id].\\nIf you do not have the answer, respond with \"I don\\'t know\".\\n', 'tools': [], 'top_p': 1.0, 'temperature': 1.0, 'tool_resources': {}, 'metadata': {}, 'response_format': 'auto'},\n",
       " {'id': 'asst_8VKBKMZvk2swGRpOazr1771K', 'object': 'assistant', 'created_at': 1754178159, 'name': 'earth-search-agent', 'description': None, 'model': 'gpt-4o', 'instructions': '\\nA Q&A agent that can answer questions about the Earth at night.\\nSources have a JSON format with a ref_id that must be cited in the answer using the format [ref_id].\\nIf you do not have the answer, respond with \"I don\\'t know\".\\n', 'tools': [], 'top_p': 1.0, 'temperature': 1.0, 'tool_resources': {}, 'metadata': {}, 'response_format': 'auto'},\n",
       " {'id': 'asst_wjcDwPpoXVeoPariglSLXny4', 'object': 'assistant', 'created_at': 1754177846, 'name': 'earth-search-agent', 'description': None, 'model': 'gpt-4o', 'instructions': '\\nA Q&A agent that can answer questions about the Earth at night.\\nSources have a JSON format with a ref_id that must be cited in the answer using the format [ref_id].\\nIf you do not have the answer, respond with \"I don\\'t know\".\\n', 'tools': [], 'top_p': 1.0, 'temperature': 1.0, 'tool_resources': {}, 'metadata': {}, 'response_format': 'auto'},\n",
       " {'id': 'asst_6FNF6LlsUDGpGAhTZariZKwL', 'object': 'assistant', 'created_at': 1754177643, 'name': 'earth-search-agent', 'description': None, 'model': 'gpt-4o', 'instructions': '\\nA Q&A agent that can answer questions about the Earth at night.\\nSources have a JSON format with a ref_id that must be cited in the answer using the format [ref_id].\\nIf you do not have the answer, respond with \"I don\\'t know\".\\n', 'tools': [], 'top_p': 1.0, 'temperature': 1.0, 'tool_resources': {}, 'metadata': {}, 'response_format': 'auto'},\n",
       " {'id': 'asst_IAMfRmDaauuE0UBuUuTqg1ya', 'object': 'assistant', 'created_at': 1754177190, 'name': 'earth-search-agent', 'description': None, 'model': 'gpt-4o', 'instructions': '\\nA Q&A agent that can answer questions about the Earth at night.\\nSources have a JSON format with a ref_id that must be cited in the answer using the format [ref_id].\\nIf you do not have the answer, respond with \"I don\\'t know\".\\n', 'tools': [], 'top_p': 1.0, 'temperature': 1.0, 'tool_resources': {}, 'metadata': {}, 'response_format': 'auto'},\n",
       " {'id': 'asst_MdwfWb7qN0ZmzOsEdfDhG8FC', 'object': 'assistant', 'created_at': 1754177096, 'name': 'earth-search-agent', 'description': None, 'model': 'gpt-4o', 'instructions': '\\nA Q&A agent that can answer questions about the Earth at night.\\nSources have a JSON format with a ref_id that must be cited in the answer using the format [ref_id].\\nIf you do not have the answer, respond with \"I don\\'t know\".\\n', 'tools': [], 'top_p': 1.0, 'temperature': 1.0, 'tool_resources': {}, 'metadata': {}, 'response_format': 'auto'},\n",
       " {'id': 'asst_O99gY2czndElbIb2vGBTgx4q', 'object': 'assistant', 'created_at': 1754176650, 'name': 'earth-search-agent', 'description': None, 'model': 'gpt-4o', 'instructions': '\\nA Q&A agent that can answer questions about the Earth at night.\\nSources have a JSON format with a ref_id that must be cited in the answer using the format [ref_id].\\nIf you do not have the answer, respond with \"I don\\'t know\".\\n', 'tools': [], 'top_p': 1.0, 'temperature': 1.0, 'tool_resources': {}, 'metadata': {}, 'response_format': 'auto'},\n",
       " {'id': 'asst_l7AmWfRCSPnZRtGxk5ebnzCP', 'object': 'assistant', 'created_at': 1754175801, 'name': 'earth-search-agent', 'description': None, 'model': 'gpt-4o', 'instructions': '\\nA Q&A agent that can answer questions about the Earth at night.\\nSources have a JSON format with a ref_id that must be cited in the answer using the format [ref_id].\\nIf you do not have the answer, respond with \"I don\\'t know\".\\n', 'tools': [], 'top_p': 1.0, 'temperature': 1.0, 'tool_resources': {}, 'metadata': {}, 'response_format': 'auto'},\n",
       " {'id': 'asst_W2NnaxvaGQZNd1hJRBcxL5pG', 'object': 'assistant', 'created_at': 1754175779, 'name': 'earth-search-agent', 'description': None, 'model': 'gpt-4o', 'instructions': '\\nA Q&A agent that can answer questions about the Earth at night.\\nSources have a JSON format with a ref_id that must be cited in the answer using the format [ref_id].\\nIf you do not have the answer, respond with \"I don\\'t know\".\\n', 'tools': [], 'top_p': 1.0, 'temperature': 1.0, 'tool_resources': {}, 'metadata': {}, 'response_format': 'auto'},\n",
       " {'id': 'asst_x6XZlV73To0nobcYLfE2KBeC', 'object': 'assistant', 'created_at': 1754174588, 'name': 'earth-search-agent', 'description': None, 'model': 'gpt-4o', 'instructions': '\\nA Q&A agent that can answer questions about the Earth at night.\\nSources have a JSON format with a ref_id that must be cited in the answer using the format [ref_id].\\nIf you do not have the answer, respond with \"I don\\'t know\".\\n', 'tools': [], 'top_p': 1.0, 'temperature': 1.0, 'tool_resources': {}, 'metadata': {}, 'response_format': 'auto'}]"
      ]
     },
     "execution_count": 14,
     "metadata": {},
     "output_type": "execute_result"
    }
   ],
   "source": [
    "project_client = AIProjectClient(endpoint=project_endpoint, credential=credential)\n",
    "\n",
    "list(project_client.agents.list_agents())"
   ]
  },
  {
   "cell_type": "code",
   "execution_count": 15,
   "id": "47004aef",
   "metadata": {},
   "outputs": [
    {
     "name": "stdout",
     "output_type": "stream",
     "text": [
      "AI agent 'test-agent' created or updated successfully\n"
     ]
    }
   ],
   "source": [
    "instructions = \"\"\"\n",
    "A Q&A agent that can answer questions about the Earth at night.\n",
    "Sources have a JSON format with a ref_id that must be cited in the answer using the format [ref_id].\n",
    "If you do not have the answer, respond with \"I don't know\".\n",
    "\"\"\"\n",
    "agent = project_client.agents.create_agent(\n",
    "    model=agent_model,\n",
    "    name=agent_name,\n",
    "    instructions=instructions\n",
    ")\n",
    "\n",
    "print(f\"AI agent '{agent_name}' created or updated successfully\")"
   ]
  },
  {
   "cell_type": "code",
   "execution_count": 16,
   "id": "6c6d0bec",
   "metadata": {},
   "outputs": [],
   "source": [
    "agent_client = KnowledgeAgentRetrievalClient(endpoint=endpoint, agent_name=agent_name, credential=new_credential)\n",
    "\n",
    "thread = project_client.agents.threads.create()\n",
    "retrieval_results = {}\n",
    "\n",
    "def agentic_retrieval() -> str:\n",
    "    \"\"\"\n",
    "        Searches a NASA e-book about images of Earth at night and other science related facts.\n",
    "        The returned string is in a JSON format that contains the reference id.\n",
    "        Be sure to use the same format in your agent's response\n",
    "        You must refer to references by id number\n",
    "    \"\"\"\n",
    "    # Take the last 5 messages in the conversation\n",
    "    messages = project_client.agents.messages.list(thread.id, limit=5, order=ListSortOrder.DESCENDING)\n",
    "    # Reverse the order so the most recent message is last\n",
    "    messages = list(messages)\n",
    "    messages.reverse()\n",
    "    retrieval_result = agent_client.retrieve(\n",
    "        retrieval_request=KnowledgeAgentRetrievalRequest(\n",
    "            messages=[KnowledgeAgentMessage(role=msg[\"role\"], content=[KnowledgeAgentMessageTextContent(text=msg.content[0].text)]) for msg in messages if msg[\"role\"] != \"system\"],\n",
    "            target_index_params=[KnowledgeAgentIndexParams(index_name=index_name, reranker_threshold=2.5)]\n",
    "        )\n",
    "    )\n",
    "\n",
    "    # Associate the retrieval results with the last message in the conversation\n",
    "    last_message = messages[-1]\n",
    "    retrieval_results[last_message.id] = retrieval_result\n",
    "\n",
    "    # Return the grounding response to the agent\n",
    "    return retrieval_result.response[0].content[0].text\n",
    "\n",
    "\n",
    "functions = FunctionTool({ agentic_retrieval })\n",
    "toolset = ToolSet()\n",
    "toolset.add(functions)\n",
    "project_client.agents.enable_auto_function_calls(toolset)"
   ]
  },
  {
   "cell_type": "code",
   "execution_count": 17,
   "id": "4a3e4065",
   "metadata": {},
   "outputs": [
    {
     "name": "stdout",
     "output_type": "stream",
     "text": [
      "Agent response: Suburban belts display larger December brightening than urban cores despite the absolute light levels being higher downtown mainly because of holiday light displays and other festive activities during Christmas and New Year's\n",
      " The increase in holiday lighting, such as decorations and residential displays, tends to be more pronounced in suburban areas relative to their normal baseline lighting compared to already brightly lit urban centers where the relative increase is less dramatic\n",
      " This results in greater relative brightening in suburban belts during December even though the urban core has higher overall light levels [ref_id=0]\n",
      "\n",
      "\n",
      "Regarding the sharp visibility of the Phoenix nighttime street grid from space, this is due to the city's regular grid layout of streets and blocks, which are clearly illuminated by street lighting\n",
      " The grid is further emphasized by features such as major transportation corridors (e\n",
      "g\n",
      ", Grand Avenue) and brightly lit commercial properties concentrated at intersections\n",
      " In contrast, large stretches of interstate highways between Midwestern cities appear dimmer because they are primarily transportation routes without the concentrated urban and commercial lighting found within city grids\n",
      " Additionally, extensive areas of agricultural or undeveloped land between cities contribute to less overall lighting along these corridors, making them less visible from space compared to Phoenix's dense, grid-patterned urban lighting [ref_id=1, ref_id=2]\n",
      "\n"
     ]
    }
   ],
   "source": [
    "message = project_client.agents.messages.create(\n",
    "    thread_id=thread.id,\n",
    "    role=\"user\",\n",
    "    content=\"\"\"\n",
    "        Why do suburban belts display larger December brightening than urban cores even though absolute light levels are higher downtown?\n",
    "        Why is the Phoenix nighttime street grid is so sharply visible from space, whereas large stretches of the interstate between midwestern cities remain comparatively dim?\n",
    "    \"\"\"\n",
    ")\n",
    "\n",
    "run = project_client.agents.runs.create_and_process(\n",
    "    thread_id=thread.id,\n",
    "    agent_id=agent.id,\n",
    "    tool_choice=AgentsNamedToolChoice(type=AgentsNamedToolChoiceType.FUNCTION, function=FunctionName(name=\"agentic_retrieval\")),\n",
    "    toolset=toolset)\n",
    "if run.status == \"failed\":\n",
    "    raise RuntimeError(f\"Run failed: {run.last_error}\")\n",
    "output = project_client.agents.messages.get_last_message_text_by_role(thread_id=thread.id, role=\"assistant\").text.value\n",
    "\n",
    "print(\"Agent response:\", output.replace(\".\", \"\\n\"))"
   ]
  },
  {
   "cell_type": "code",
   "execution_count": 18,
   "id": "0bf1e507",
   "metadata": {},
   "outputs": [
    {
     "name": "stdout",
     "output_type": "stream",
     "text": [
      "Retrieval activity\n",
      "[\n",
      "  {\n",
      "    \"id\": 0,\n",
      "    \"type\": \"ModelQueryPlanning\",\n",
      "    \"input_tokens\": 1383,\n",
      "    \"output_tokens\": 577\n",
      "  },\n",
      "  {\n",
      "    \"id\": 1,\n",
      "    \"type\": \"AzureSearchQuery\",\n",
      "    \"target_index\": \"earth_at_night\",\n",
      "    \"query\": {\n",
      "      \"search\": \"Why do suburban areas show greater December brightening in nighttime lights compared to urban cores despite higher absolute light levels downtown?\"\n",
      "    },\n",
      "    \"query_time\": \"2025-08-03T09:09:22.044Z\",\n",
      "    \"count\": 1,\n",
      "    \"elapsed_ms\": 363\n",
      "  },\n",
      "  {\n",
      "    \"id\": 2,\n",
      "    \"type\": \"AzureSearchQuery\",\n",
      "    \"target_index\": \"earth_at_night\",\n",
      "    \"query\": {\n",
      "      \"search\": \"Why is the Phoenix nighttime street grid so sharply visible from space, while large stretches of interstate highways between Midwestern cities appear comparatively dim?\"\n",
      "    },\n",
      "    \"query_time\": \"2025-08-03T09:09:22.235Z\",\n",
      "    \"count\": 2,\n",
      "    \"elapsed_ms\": 190\n",
      "  },\n",
      "  {\n",
      "    \"id\": 3,\n",
      "    \"type\": \"AzureSearchSemanticRanker\",\n",
      "    \"input_tokens\": 49170\n",
      "  }\n",
      "]\n",
      "Retrieval results\n",
      "[\n",
      "  {\n",
      "    \"type\": \"AzureSearchDoc\",\n",
      "    \"id\": \"0\",\n",
      "    \"activity_source\": 1,\n",
      "    \"doc_key\": \"earth_at_night_508_page_174_verbalized\"\n",
      "  },\n",
      "  {\n",
      "    \"type\": \"AzureSearchDoc\",\n",
      "    \"id\": \"1\",\n",
      "    \"activity_source\": 2,\n",
      "    \"doc_key\": \"earth_at_night_508_page_104_verbalized\"\n",
      "  },\n",
      "  {\n",
      "    \"type\": \"AzureSearchDoc\",\n",
      "    \"id\": \"2\",\n",
      "    \"activity_source\": 2,\n",
      "    \"doc_key\": \"earth_at_night_508_page_105_verbalized\"\n",
      "  }\n",
      "]\n"
     ]
    }
   ],
   "source": [
    "import json\n",
    "\n",
    "retrieval_result = retrieval_results.get(message.id)\n",
    "if retrieval_result is None:\n",
    "    raise RuntimeError(f\"No retrieval results found for message {message.id}\")\n",
    "\n",
    "print(\"Retrieval activity\")\n",
    "print(json.dumps([activity.as_dict() for activity in retrieval_result.activity], indent=2))\n",
    "print(\"Retrieval results\")\n",
    "print(json.dumps([reference.as_dict() for reference in retrieval_result.references], indent=2))"
   ]
  },
  {
   "cell_type": "code",
   "execution_count": 19,
   "id": "d3dc157b",
   "metadata": {},
   "outputs": [
    {
     "name": "stdout",
     "output_type": "stream",
     "text": [
      "Agent response: To find lava at night, satellite instruments like the VIIRS Day/Night Band (DNB) can detect the glowing light emitted by hot lava flows on active volcanoes\n",
      " These glowing lava flows produce bright lights distinguishable from city lights in nighttime satellite images\n",
      " Sufficient moonlight helps enhance visibility\n",
      " For example, glowing lava from eruptions such as those at Mount Etna in Italy or Kilauea in Hawaii is clearly visible from space as bright spots or flowing red/orange areas in nighttime images\n",
      " Thermal and infrared imaging can also be combined with visible light data to detect hot lava and monitor volcanic activity effectively\n",
      " This capability not only assists scientific research but also aids public safety by providing real-time monitoring of eruptions [ref_id=0, 1, 2, 3, 4]\n",
      "\n"
     ]
    }
   ],
   "source": [
    "message = project_client.agents.messages.create(\n",
    "    thread_id=thread.id,\n",
    "    role=\"user\",\n",
    "    content=\"How do I find lava at night? Use the retrieval tool to answer this question.\"\n",
    ")\n",
    "\n",
    "run = project_client.agents.runs.create_and_process(\n",
    "    thread_id=thread.id,\n",
    "    agent_id=agent.id,\n",
    "    tool_choice=AgentsNamedToolChoice(type=AgentsNamedToolChoiceType.FUNCTION, function=FunctionName(name=\"agentic_retrieval\")),\n",
    "    toolset=toolset)\n",
    "if run.status == \"failed\":\n",
    "    raise RuntimeError(f\"Run failed: {run.last_error}\")\n",
    "output = project_client.agents.messages.get_last_message_text_by_role(thread_id=thread.id, role=\"assistant\").text.value\n",
    "\n",
    "\n",
    "print(\"Agent response:\", output.replace(\".\", \"\\n\"))"
   ]
  },
  {
   "cell_type": "code",
   "execution_count": null,
   "id": "0fc58425",
   "metadata": {},
   "outputs": [],
   "source": []
  }
 ],
 "metadata": {
  "kernelspec": {
   "display_name": "Python 3",
   "language": "python",
   "name": "python3"
  },
  "language_info": {
   "codemirror_mode": {
    "name": "ipython",
    "version": 3
   },
   "file_extension": ".py",
   "mimetype": "text/x-python",
   "name": "python",
   "nbconvert_exporter": "python",
   "pygments_lexer": "ipython3",
   "version": "3.13.5"
  }
 },
 "nbformat": 4,
 "nbformat_minor": 5
}
