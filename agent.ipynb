{
 "cells": [
  {
   "cell_type": "code",
   "execution_count": 22,
   "id": "2219056a",
   "metadata": {},
   "outputs": [],
   "source": [
    "from dotenv import load_dotenv\n",
    "from azure.identity import DefaultAzureCredential, get_bearer_token_provider\n",
    "import os\n",
    "from azure.ai.projects import AIProjectClient\n",
    "from azure.core.credentials import AzureKeyCredential \n",
    "from azure.ai.agents.models import FunctionTool, ToolSet, ListSortOrder\n",
    "from azure.ai.agents.models import AgentsNamedToolChoice, AgentsNamedToolChoiceType, FunctionName\n",
    "from azure.search.documents.agent import KnowledgeAgentRetrievalClient\n",
    "from azure.search.documents.agent.models import KnowledgeAgentRetrievalRequest, KnowledgeAgentMessage, KnowledgeAgentMessageTextContent, KnowledgeAgentIndexParams\n"
   ]
  },
  {
   "cell_type": "code",
   "execution_count": 23,
   "id": "74ecab17",
   "metadata": {},
   "outputs": [],
   "source": [
    "\n",
    "\n",
    "load_dotenv(override=True) # take environment variables from .env.\n",
    "\n",
    "\n",
    "project_endpoint = os.environ[\"PROJECT_ENDPOINT\"]\n",
    "agent_model = os.getenv(\"AGENT_MODEL\", \"gpt-4.1-mini\")\n",
    "endpoint = os.environ[\"AZURE_SEARCH_ENDPOINT\"]\n",
    "openai_key = os.getenv(\"AZURE_OPENAI_KEY\")\n",
    "managed_identity_client_id = os.getenv(\"MANAGED_IDENTITY_CLIENT_ID\")\n",
    "new_credential = AzureKeyCredential(openai_key)\n",
    "credential = DefaultAzureCredential(managed_identity_client_id=managed_identity_client_id)\n",
    "# token_provider = get_bearer_token_provider(credential, \"https://search.azure.com/.default\")\n",
    "index_name = os.getenv(\"AZURE_SEARCH_INDEX\", \"txt_files_index\")\n",
    "azure_openai_endpoint = os.environ[\"AZURE_OPENAI_ENDPOINT\"]\n",
    "azure_openai_gpt_deployment = os.getenv(\"AZURE_OPENAI_GPT_DEPLOYMENT\", \"gpt-4.1-mini\")\n",
    "azure_openai_gpt_model = os.getenv(\"AZURE_OPENAI_GPT_MODEL\", \"gpt-4.1-mini\")\n",
    "azure_openai_embedding_deployment = os.getenv(\"AZURE_OPENAI_EMBEDDING_DEPLOYMENT\", \"text-embedding-3-large\")\n",
    "azure_openai_embedding_model = os.getenv(\"AZURE_OPENAI_EMBEDDING_MODEL\", \"text-embedding-3-large\")\n",
    "agent_name = os.getenv(\"AZURE_SEARCH_AGENT_NAME\", \"txt-files-agent\")"
   ]
  },
  {
   "cell_type": "code",
   "execution_count": 24,
   "id": "1d5d3e1d",
   "metadata": {},
   "outputs": [
    {
     "name": "stdout",
     "output_type": "stream",
     "text": [
      "Agent Name: txt-files-agent\n"
     ]
    }
   ],
   "source": [
    "\n",
    "print(f\"Agent Name: {agent_name}\")"
   ]
  },
  {
   "cell_type": "code",
   "execution_count": 25,
   "id": "87ab16c6",
   "metadata": {},
   "outputs": [
    {
     "data": {
      "text/plain": [
       "[{'id': 'asst_1BNPct7pGpMEM1XPcVo99uEw', 'object': 'assistant', 'created_at': 1754215309, 'name': 'earth-search-agent-storage', 'description': None, 'model': 'gpt-4.1-mini', 'instructions': '\\nA Q&A agent that can answer questions about the Earth at night.\\nSources have a JSON format with a ref_id that must be cited in the answer using the format [ref_id].\\nIf you do not have the answer, respond with \"I don\\'t know\".\\n', 'tools': [], 'top_p': 1.0, 'temperature': 1.0, 'tool_resources': {}, 'metadata': {}, 'response_format': 'auto'},\n",
       " {'id': 'asst_K4j85U9fQl9Z4i4tb2ZbJbfg', 'object': 'assistant', 'created_at': 1754215159, 'name': 'earth-search-agent-storage', 'description': None, 'model': 'gpt-4.1-mini', 'instructions': '\\nA Q&A agent that can answer questions about the Earth at night.\\nSources have a JSON format with a ref_id that must be cited in the answer using the format [ref_id].\\nIf you do not have the answer, respond with \"I don\\'t know\".\\n', 'tools': [], 'top_p': 1.0, 'temperature': 1.0, 'tool_resources': {}, 'metadata': {}, 'response_format': 'auto'},\n",
       " {'id': 'asst_YRmMajYnBuyna3UYYQGe4TLJ', 'object': 'assistant', 'created_at': 1754212331, 'name': 'test-agent', 'description': None, 'model': 'gpt-4.1-mini', 'instructions': '\\nA Q&A agent that can answer questions about the Earth at night.\\nSources have a JSON format with a ref_id that must be cited in the answer using the format [ref_id].\\nIf you do not have the answer, respond with \"I don\\'t know\".\\n', 'tools': [], 'top_p': 1.0, 'temperature': 1.0, 'tool_resources': {}, 'metadata': {}, 'response_format': 'auto'},\n",
       " {'id': 'asst_Cp0Waqjo0YolA9DiGHmHM89d', 'object': 'assistant', 'created_at': 1754212148, 'name': 'test-agent', 'description': None, 'model': 'gpt-4.1-mini', 'instructions': '\\nA Q&A agent that can answer questions about the Earth at night.\\nSources have a JSON format with a ref_id that must be cited in the answer using the format [ref_id].\\nIf you do not have the answer, respond with \"I don\\'t know\".\\n', 'tools': [], 'top_p': 1.0, 'temperature': 1.0, 'tool_resources': {}, 'metadata': {}, 'response_format': 'auto'},\n",
       " {'id': 'asst_VsfVa3hCzB0ITiR1w7MQ9mMk', 'object': 'assistant', 'created_at': 1754185348, 'name': 'test-agent', 'description': None, 'model': 'gpt-4.1-mini', 'instructions': '\\nA Q&A agent that can answer questions about the Earth at night.\\nSources have a JSON format with a ref_id that must be cited in the answer using the format [ref_id].\\nIf you do not have the answer, respond with \"I don\\'t know\".\\n', 'tools': [], 'top_p': 1.0, 'temperature': 1.0, 'tool_resources': {}, 'metadata': {}, 'response_format': 'auto'},\n",
       " {'id': 'asst_3PbP9kqQZpAiRvoSeEiWq4iT', 'object': 'assistant', 'created_at': 1754185188, 'name': 'test-agent', 'description': None, 'model': 'gpt-4.1-mini', 'instructions': '\\nA Q&A agent that can answer questions about the Earth at night.\\nSources have a JSON format with a ref_id that must be cited in the answer using the format [ref_id].\\nIf you do not have the answer, respond with \"I don\\'t know\".\\n', 'tools': [], 'top_p': 1.0, 'temperature': 1.0, 'tool_resources': {}, 'metadata': {}, 'response_format': 'auto'},\n",
       " {'id': 'asst_3tw8chqAJrTlXrFS7UNZJBHZ', 'object': 'assistant', 'created_at': 1754184559, 'name': 'test-agent', 'description': None, 'model': 'gpt-4.1-mini', 'instructions': '\\nA Q&A agent that can answer questions about the Earth at night.\\nSources have a JSON format with a ref_id that must be cited in the answer using the format [ref_id].\\nIf you do not have the answer, respond with \"I don\\'t know\".\\n', 'tools': [], 'top_p': 1.0, 'temperature': 1.0, 'tool_resources': {}, 'metadata': {}, 'response_format': 'auto'},\n",
       " {'id': 'asst_h7fE6wi7pIlSiF5rl3XAon7x', 'object': 'assistant', 'created_at': 1754184264, 'name': 'test-agent', 'description': None, 'model': 'gpt-4.1-mini', 'instructions': '\\nA Q&A agent that can answer questions about the Earth at night.\\nSources have a JSON format with a ref_id that must be cited in the answer using the format [ref_id].\\nIf you do not have the answer, respond with \"I don\\'t know\".\\n', 'tools': [], 'top_p': 1.0, 'temperature': 1.0, 'tool_resources': {}, 'metadata': {}, 'response_format': 'auto'},\n",
       " {'id': 'asst_Jj13d9kq8gmoGiYUMJCxhgVX', 'object': 'assistant', 'created_at': 1754183699, 'name': 'test-agent', 'description': None, 'model': 'gpt-4o', 'instructions': '\\nA Q&A agent that can answer questions about the Earth at night.\\nSources have a JSON format with a ref_id that must be cited in the answer using the format [ref_id].\\nIf you do not have the answer, respond with \"I don\\'t know\".\\n', 'tools': [], 'top_p': 1.0, 'temperature': 1.0, 'tool_resources': {}, 'metadata': {}, 'response_format': 'auto'},\n",
       " {'id': 'asst_ZEKC4CfWClbt26SenhgvFvHx', 'object': 'assistant', 'created_at': 1754183170, 'name': 'test-agent', 'description': None, 'model': 'gpt-4o', 'instructions': '\\nA Q&A agent that can answer questions about the Earth at night.\\nSources have a JSON format with a ref_id that must be cited in the answer using the format [ref_id].\\nIf you do not have the answer, respond with \"I don\\'t know\".\\n', 'tools': [], 'top_p': 1.0, 'temperature': 1.0, 'tool_resources': {}, 'metadata': {}, 'response_format': 'auto'},\n",
       " {'id': 'asst_ZPC9xnDf2uXxdkSvuVho2Dnw', 'object': 'assistant', 'created_at': 1754182743, 'name': 'test-agent', 'description': None, 'model': 'gpt-4o', 'instructions': '\\nA Q&A agent that can answer questions about the Earth at night.\\nSources have a JSON format with a ref_id that must be cited in the answer using the format [ref_id].\\nIf you do not have the answer, respond with \"I don\\'t know\".\\n', 'tools': [], 'top_p': 1.0, 'temperature': 1.0, 'tool_resources': {}, 'metadata': {}, 'response_format': 'auto'},\n",
       " {'id': 'asst_Z2dNcxyDXQlQrGwCMGdv2oPP', 'object': 'assistant', 'created_at': 1754182359, 'name': 'test-agent', 'description': None, 'model': 'gpt-4o', 'instructions': '\\nA Q&A agent that can answer questions about the Earth at night.\\nSources have a JSON format with a ref_id that must be cited in the answer using the format [ref_id].\\nIf you do not have the answer, respond with \"I don\\'t know\".\\n', 'tools': [], 'top_p': 1.0, 'temperature': 1.0, 'tool_resources': {}, 'metadata': {}, 'response_format': 'auto'},\n",
       " {'id': 'asst_CbpU3mAa9W3ggLmcmchRi9Xi', 'object': 'assistant', 'created_at': 1754182306, 'name': 'test-agent', 'description': None, 'model': 'gpt-4o', 'instructions': '\\nA Q&A agent that can answer questions about the Earth at night.\\nSources have a JSON format with a ref_id that must be cited in the answer using the format [ref_id].\\nIf you do not have the answer, respond with \"I don\\'t know\".\\n', 'tools': [], 'top_p': 1.0, 'temperature': 1.0, 'tool_resources': {}, 'metadata': {}, 'response_format': 'auto'},\n",
       " {'id': 'asst_ZYNwiCU91cOKmc5jWYqy2ewv', 'object': 'assistant', 'created_at': 1754181853, 'name': 'test-agent', 'description': None, 'model': 'gpt-4o', 'instructions': '\\nA Q&A agent that can answer questions about the Earth at night.\\nSources have a JSON format with a ref_id that must be cited in the answer using the format [ref_id].\\nIf you do not have the answer, respond with \"I don\\'t know\".\\n', 'tools': [], 'top_p': 1.0, 'temperature': 1.0, 'tool_resources': {}, 'metadata': {}, 'response_format': 'auto'},\n",
       " {'id': 'asst_Vh9P5RUz4PeWhBZHekStn53G', 'object': 'assistant', 'created_at': 1754179976, 'name': 'test-agent', 'description': None, 'model': 'gpt-4o', 'instructions': '\\nA Q&A agent that can answer questions about the Earth at night.\\nSources have a JSON format with a ref_id that must be cited in the answer using the format [ref_id].\\nIf you do not have the answer, respond with \"I don\\'t know\".\\n', 'tools': [], 'top_p': 1.0, 'temperature': 1.0, 'tool_resources': {}, 'metadata': {}, 'response_format': 'auto'},\n",
       " {'id': 'asst_LE9NtqgRaANHUo4f7TbdQw5t', 'object': 'assistant', 'created_at': 1754179602, 'name': 'test-agent', 'description': None, 'model': 'gpt-4o', 'instructions': '\\nA Q&A agent that can answer questions about the Earth at night.\\nSources have a JSON format with a ref_id that must be cited in the answer using the format [ref_id].\\nIf you do not have the answer, respond with \"I don\\'t know\".\\n', 'tools': [], 'top_p': 1.0, 'temperature': 1.0, 'tool_resources': {}, 'metadata': {}, 'response_format': 'auto'},\n",
       " {'id': 'asst_qgQ2LWA5ixJp8wNlPP34pQze', 'object': 'assistant', 'created_at': 1754179166, 'name': 'test-agent', 'description': None, 'model': 'gpt-4o', 'instructions': '\\nA Q&A agent that can answer questions about the Earth at night.\\nSources have a JSON format with a ref_id that must be cited in the answer using the format [ref_id].\\nIf you do not have the answer, respond with \"I don\\'t know\".\\n', 'tools': [], 'top_p': 1.0, 'temperature': 1.0, 'tool_resources': {}, 'metadata': {}, 'response_format': 'auto'},\n",
       " {'id': 'asst_Fv5d3tTh6VBwajyAGcPAxow3', 'object': 'assistant', 'created_at': 1754178956, 'name': 'test-agent', 'description': None, 'model': 'gpt-4o', 'instructions': '\\nA Q&A agent that can answer questions about the Earth at night.\\nSources have a JSON format with a ref_id that must be cited in the answer using the format [ref_id].\\nIf you do not have the answer, respond with \"I don\\'t know\".\\n', 'tools': [], 'top_p': 1.0, 'temperature': 1.0, 'tool_resources': {}, 'metadata': {}, 'response_format': 'auto'},\n",
       " {'id': 'asst_IC4U3p0O7YofRnof0fFGXXMW', 'object': 'assistant', 'created_at': 1754178597, 'name': 'earth-search-agent', 'description': None, 'model': 'gpt-4o', 'instructions': '\\nA Q&A agent that can answer questions about the Earth at night.\\nSources have a JSON format with a ref_id that must be cited in the answer using the format [ref_id].\\nIf you do not have the answer, respond with \"I don\\'t know\".\\n', 'tools': [], 'top_p': 1.0, 'temperature': 1.0, 'tool_resources': {}, 'metadata': {}, 'response_format': 'auto'},\n",
       " {'id': 'asst_LqtdoX85EYQFa8mR5pWq0lB3', 'object': 'assistant', 'created_at': 1754178329, 'name': 'earth-search-agent', 'description': None, 'model': 'gpt-4o', 'instructions': '\\nA Q&A agent that can answer questions about the Earth at night.\\nSources have a JSON format with a ref_id that must be cited in the answer using the format [ref_id].\\nIf you do not have the answer, respond with \"I don\\'t know\".\\n', 'tools': [], 'top_p': 1.0, 'temperature': 1.0, 'tool_resources': {}, 'metadata': {}, 'response_format': 'auto'},\n",
       " {'id': 'asst_8VKBKMZvk2swGRpOazr1771K', 'object': 'assistant', 'created_at': 1754178159, 'name': 'earth-search-agent', 'description': None, 'model': 'gpt-4o', 'instructions': '\\nA Q&A agent that can answer questions about the Earth at night.\\nSources have a JSON format with a ref_id that must be cited in the answer using the format [ref_id].\\nIf you do not have the answer, respond with \"I don\\'t know\".\\n', 'tools': [], 'top_p': 1.0, 'temperature': 1.0, 'tool_resources': {}, 'metadata': {}, 'response_format': 'auto'},\n",
       " {'id': 'asst_wjcDwPpoXVeoPariglSLXny4', 'object': 'assistant', 'created_at': 1754177846, 'name': 'earth-search-agent', 'description': None, 'model': 'gpt-4o', 'instructions': '\\nA Q&A agent that can answer questions about the Earth at night.\\nSources have a JSON format with a ref_id that must be cited in the answer using the format [ref_id].\\nIf you do not have the answer, respond with \"I don\\'t know\".\\n', 'tools': [], 'top_p': 1.0, 'temperature': 1.0, 'tool_resources': {}, 'metadata': {}, 'response_format': 'auto'},\n",
       " {'id': 'asst_6FNF6LlsUDGpGAhTZariZKwL', 'object': 'assistant', 'created_at': 1754177643, 'name': 'earth-search-agent', 'description': None, 'model': 'gpt-4o', 'instructions': '\\nA Q&A agent that can answer questions about the Earth at night.\\nSources have a JSON format with a ref_id that must be cited in the answer using the format [ref_id].\\nIf you do not have the answer, respond with \"I don\\'t know\".\\n', 'tools': [], 'top_p': 1.0, 'temperature': 1.0, 'tool_resources': {}, 'metadata': {}, 'response_format': 'auto'},\n",
       " {'id': 'asst_IAMfRmDaauuE0UBuUuTqg1ya', 'object': 'assistant', 'created_at': 1754177190, 'name': 'earth-search-agent', 'description': None, 'model': 'gpt-4o', 'instructions': '\\nA Q&A agent that can answer questions about the Earth at night.\\nSources have a JSON format with a ref_id that must be cited in the answer using the format [ref_id].\\nIf you do not have the answer, respond with \"I don\\'t know\".\\n', 'tools': [], 'top_p': 1.0, 'temperature': 1.0, 'tool_resources': {}, 'metadata': {}, 'response_format': 'auto'},\n",
       " {'id': 'asst_MdwfWb7qN0ZmzOsEdfDhG8FC', 'object': 'assistant', 'created_at': 1754177096, 'name': 'earth-search-agent', 'description': None, 'model': 'gpt-4o', 'instructions': '\\nA Q&A agent that can answer questions about the Earth at night.\\nSources have a JSON format with a ref_id that must be cited in the answer using the format [ref_id].\\nIf you do not have the answer, respond with \"I don\\'t know\".\\n', 'tools': [], 'top_p': 1.0, 'temperature': 1.0, 'tool_resources': {}, 'metadata': {}, 'response_format': 'auto'},\n",
       " {'id': 'asst_O99gY2czndElbIb2vGBTgx4q', 'object': 'assistant', 'created_at': 1754176650, 'name': 'earth-search-agent', 'description': None, 'model': 'gpt-4o', 'instructions': '\\nA Q&A agent that can answer questions about the Earth at night.\\nSources have a JSON format with a ref_id that must be cited in the answer using the format [ref_id].\\nIf you do not have the answer, respond with \"I don\\'t know\".\\n', 'tools': [], 'top_p': 1.0, 'temperature': 1.0, 'tool_resources': {}, 'metadata': {}, 'response_format': 'auto'},\n",
       " {'id': 'asst_l7AmWfRCSPnZRtGxk5ebnzCP', 'object': 'assistant', 'created_at': 1754175801, 'name': 'earth-search-agent', 'description': None, 'model': 'gpt-4o', 'instructions': '\\nA Q&A agent that can answer questions about the Earth at night.\\nSources have a JSON format with a ref_id that must be cited in the answer using the format [ref_id].\\nIf you do not have the answer, respond with \"I don\\'t know\".\\n', 'tools': [], 'top_p': 1.0, 'temperature': 1.0, 'tool_resources': {}, 'metadata': {}, 'response_format': 'auto'},\n",
       " {'id': 'asst_W2NnaxvaGQZNd1hJRBcxL5pG', 'object': 'assistant', 'created_at': 1754175779, 'name': 'earth-search-agent', 'description': None, 'model': 'gpt-4o', 'instructions': '\\nA Q&A agent that can answer questions about the Earth at night.\\nSources have a JSON format with a ref_id that must be cited in the answer using the format [ref_id].\\nIf you do not have the answer, respond with \"I don\\'t know\".\\n', 'tools': [], 'top_p': 1.0, 'temperature': 1.0, 'tool_resources': {}, 'metadata': {}, 'response_format': 'auto'},\n",
       " {'id': 'asst_x6XZlV73To0nobcYLfE2KBeC', 'object': 'assistant', 'created_at': 1754174588, 'name': 'earth-search-agent', 'description': None, 'model': 'gpt-4o', 'instructions': '\\nA Q&A agent that can answer questions about the Earth at night.\\nSources have a JSON format with a ref_id that must be cited in the answer using the format [ref_id].\\nIf you do not have the answer, respond with \"I don\\'t know\".\\n', 'tools': [], 'top_p': 1.0, 'temperature': 1.0, 'tool_resources': {}, 'metadata': {}, 'response_format': 'auto'}]"
      ]
     },
     "execution_count": 25,
     "metadata": {},
     "output_type": "execute_result"
    }
   ],
   "source": [
    "project_client = AIProjectClient(endpoint=project_endpoint, credential=credential)\n",
    "\n",
    "list(project_client.agents.list_agents())"
   ]
  },
  {
   "cell_type": "code",
   "execution_count": 26,
   "id": "47004aef",
   "metadata": {},
   "outputs": [
    {
     "name": "stdout",
     "output_type": "stream",
     "text": [
      "AI agent 'txt-files-agent' created or updated successfully\n"
     ]
    }
   ],
   "source": [
    "instructions = \"\"\"\n",
    "A Q&A agent that can answer questions about Earth at night, including topics like:\n",
    "- Nighttime satellite imagery and observations\n",
    "- Urban lighting patterns and light pollution\n",
    "- Nocturnal ecosystems and wildlife\n",
    "- Disaster monitoring using night imagery\n",
    "- Human activity patterns visible from space\n",
    "- Climate monitoring and urban heat island effects\n",
    "- Bioluminescence in marine environments\n",
    "\n",
    "Sources are text documents that have been processed into chunks. Each source has an 'id' field that must be cited in your answer using the format [id].\n",
    "When referencing information, always cite the source using the document ID.\n",
    "If you do not have the answer in the provided sources, respond with \"I don't know\".\n",
    "\n",
    "Be comprehensive in your answers and cite multiple relevant sources when available.\n",
    "\"\"\"\n",
    "agent = project_client.agents.create_agent(\n",
    "    model=agent_model,\n",
    "    name=agent_name,\n",
    "    instructions=instructions\n",
    ")\n",
    "\n",
    "print(f\"AI agent '{agent_name}' created or updated successfully\")"
   ]
  },
  {
   "cell_type": "code",
   "execution_count": 27,
   "id": "6c6d0bec",
   "metadata": {},
   "outputs": [],
   "source": [
    "agent_client = KnowledgeAgentRetrievalClient(endpoint=endpoint, agent_name=agent_name, credential=new_credential)\n",
    "\n",
    "thread = project_client.agents.threads.create()\n",
    "retrieval_results = {}\n",
    "\n",
    "def agentic_retrieval() -> str:\n",
    "    \"\"\"\n",
    "    Searches text documents about Earth at night topics including satellite imagery, urban lighting, \n",
    "    nocturnal ecosystems, disaster monitoring, and climate science.\n",
    "    The returned data contains text chunks with unique document IDs.\n",
    "    Be sure to cite sources using the document ID format [id] in your agent's response.\n",
    "    \"\"\"\n",
    "    # Take the last 5 messages in the conversation\n",
    "    messages = project_client.agents.messages.list(thread.id, limit=5, order=ListSortOrder.DESCENDING)\n",
    "    # Reverse the order so the most recent message is last\n",
    "    messages = list(messages)\n",
    "    messages.reverse()\n",
    "    retrieval_result = agent_client.retrieve(\n",
    "        retrieval_request=KnowledgeAgentRetrievalRequest(\n",
    "            messages=[KnowledgeAgentMessage(role=msg[\"role\"], content=[KnowledgeAgentMessageTextContent(text=msg.content[0].text)]) for msg in messages if msg[\"role\"] != \"system\"],\n",
    "            target_index_params=[KnowledgeAgentIndexParams(index_name=index_name, reranker_threshold=2.5)]\n",
    "        )\n",
    "    )\n",
    "\n",
    "    # Associate the retrieval results with the last message in the conversation\n",
    "    last_message = messages[-1]\n",
    "    retrieval_results[last_message.id] = retrieval_result\n",
    "\n",
    "    # Return the grounding response to the agent\n",
    "    return retrieval_result.response[0].content[0].text\n",
    "\n",
    "\n",
    "functions = FunctionTool({ agentic_retrieval })\n",
    "toolset = ToolSet()\n",
    "toolset.add(functions)\n",
    "project_client.agents.enable_auto_function_calls(toolset)"
   ]
  },
  {
   "cell_type": "code",
   "execution_count": 28,
   "id": "4a3e4065",
   "metadata": {},
   "outputs": [
    {
     "name": "stdout",
     "output_type": "stream",
     "text": [
      "Agent response: City lights viewed from nighttime satellite imagery reveal information about transportation infrastructure and political boundaries in several ways:\n",
      "\n",
      "1\n",
      " Transportation Infrastructure:\n",
      "   - Road networks and highways can often be traced by the continuous lines of lights connecting urban areas\n",
      "\n",
      "   - Airports and major transportation hubs are identifiable by clusters of lights\n",
      "\n",
      "   - The pattern and intensity of urban lighting reflect the density and expansion of transportation systems\n",
      "\n",
      "   These visible light patterns help map out how cities and regions are interconnected and the flow of human mobility\n",
      "\n",
      "\n",
      "2\n",
      " Political Boundaries:\n",
      "   - Sharp contrasts in lighting intensity along borders can indicate political boundaries, especially where economic development or infrastructure differs markedly\n",
      "\n",
      "   - Differences in urbanization and land use on either side of a border are visible through lighting patterns\n",
      "\n",
      "   - Nighttime imagery can highlight controlled border areas versus more porous regions by changes in light distribution\n",
      "\n",
      "\n",
      "Regarding the role of nighttime imagery in climate research and monitoring:\n",
      "\n",
      "- Nighttime satellite images help monitor urban heat island effects, where cities exhibit higher temperatures due to dense construction and human activity\n",
      "\n",
      "- Changes in lighting patterns over time can indicate urban sprawl and land use changes relevant to climate models\n",
      "\n",
      "- Observations of nighttime lights assist in assessing human activity levels and their environmental impacts\n",
      "\n",
      "- Night imagery also supports disaster monitoring, such as power outages following storms, which indirectly relate to climate resilience\n",
      "\n",
      "\n",
      "These insights from night lights imagery contribute to understanding human-environment interactions and the impacts of urbanization on climate patterns\n",
      "\n",
      "\n",
      "If you would like, I can retrieve more specific sources for these points\n",
      "\n"
     ]
    }
   ],
   "source": [
    "message = project_client.agents.messages.create(\n",
    "    thread_id=thread.id,\n",
    "    role=\"user\",\n",
    "    content=\"\"\"\n",
    "        How do city lights reveal information about transportation infrastructure and political boundaries?\n",
    "        What role does nighttime imagery play in climate research and monitoring?\n",
    "    \"\"\"\n",
    ")\n",
    "\n",
    "run = project_client.agents.runs.create_and_process(\n",
    "    thread_id=thread.id,\n",
    "    agent_id=agent.id,\n",
    "    tool_choice=AgentsNamedToolChoice(type=AgentsNamedToolChoiceType.FUNCTION, function=FunctionName(name=\"agentic_retrieval\")),\n",
    "    toolset=toolset)\n",
    "if run.status == \"failed\":\n",
    "    raise RuntimeError(f\"Run failed: {run.last_error}\")\n",
    "output = project_client.agents.messages.get_last_message_text_by_role(thread_id=thread.id, role=\"assistant\").text.value\n",
    "\n",
    "print(\"Agent response:\", output.replace(\".\", \"\\n\"))"
   ]
  },
  {
   "cell_type": "code",
   "execution_count": 29,
   "id": "0bf1e507",
   "metadata": {},
   "outputs": [
    {
     "name": "stdout",
     "output_type": "stream",
     "text": [
      "Retrieval activity\n",
      "[\n",
      "  {\n",
      "    \"id\": 0,\n",
      "    \"type\": \"ModelQueryPlanning\",\n",
      "    \"input_tokens\": 1359,\n",
      "    \"output_tokens\": 357\n",
      "  },\n",
      "  {\n",
      "    \"id\": 1,\n",
      "    \"type\": \"AzureSearchQuery\",\n",
      "    \"target_index\": \"txt_files_index\",\n",
      "    \"query\": {\n",
      "      \"search\": \"How do city lights reveal information about transportation infrastructure and political boundaries?\"\n",
      "    },\n",
      "    \"query_time\": \"2025-08-03T13:41:27.468Z\",\n",
      "    \"count\": 0,\n",
      "    \"elapsed_ms\": 220\n",
      "  },\n",
      "  {\n",
      "    \"id\": 2,\n",
      "    \"type\": \"AzureSearchQuery\",\n",
      "    \"target_index\": \"txt_files_index\",\n",
      "    \"query\": {\n",
      "      \"search\": \"What role does nighttime imagery play in climate research and monitoring?\"\n",
      "    },\n",
      "    \"query_time\": \"2025-08-03T13:41:27.570Z\",\n",
      "    \"count\": 0,\n",
      "    \"elapsed_ms\": 102\n",
      "  },\n",
      "  {\n",
      "    \"id\": 3,\n",
      "    \"type\": \"AzureSearchSemanticRanker\",\n",
      "    \"input_tokens\": 0\n",
      "  }\n",
      "]\n",
      "Retrieval results\n",
      "[]\n"
     ]
    }
   ],
   "source": [
    "import json\n",
    "\n",
    "retrieval_result = retrieval_results.get(message.id)\n",
    "if retrieval_result is None:\n",
    "    raise RuntimeError(f\"No retrieval results found for message {message.id}\")\n",
    "\n",
    "print(\"Retrieval activity\")\n",
    "print(json.dumps([activity.as_dict() for activity in retrieval_result.activity], indent=2))\n",
    "print(\"Retrieval results\")\n",
    "print(json.dumps([reference.as_dict() for reference in retrieval_result.references], indent=2))"
   ]
  },
  {
   "cell_type": "code",
   "execution_count": 30,
   "id": "d3dc157b",
   "metadata": {},
   "outputs": [
    {
     "name": "stdout",
     "output_type": "stream",
     "text": [
      "Agent response: Animals that become active at night are known as nocturnal animals\n",
      " These include a wide range of species such as owls, bats, many species of rodents, some reptiles, amphibians, and various insects\n",
      " They use darkness for survival in several ways:\n",
      "\n",
      "1\n",
      " Predation: Many nocturnal predators have adapted to hunting in low light conditions using enhanced senses like acute hearing, night vision, and echolocation to locate prey\n",
      "\n",
      "\n",
      "2\n",
      " Avoiding Predators: Being active at night helps prey animals avoid diurnal predators that rely on daylight for hunting\n",
      "\n",
      "\n",
      "3\n",
      " Temperature Regulation: Nighttime activity allows animals to avoid the heat of the day, which is beneficial in hot climates\n",
      "\n",
      "\n",
      "4\n",
      " Reduced Competition: Nocturnal habits reduce competition for food resources by temporal separation from diurnal species\n",
      "\n",
      "\n",
      "5\n",
      " Navigation and Communication: Some animals use bioluminescence or enhanced sensory signals that work better in darkness for communication and navigation\n",
      "\n",
      "\n",
      "Overall, darkness confers a survival advantage by influencing feeding, breeding, predator avoidance, and energy conservation in nocturnal ecosystems\n",
      "\n"
     ]
    }
   ],
   "source": [
    "message = project_client.agents.messages.create(\n",
    "    thread_id=thread.id,\n",
    "    role=\"user\",\n",
    "    content=\"What animals become active at night and how do they use darkness for survival?\"\n",
    ")\n",
    "\n",
    "run = project_client.agents.runs.create_and_process(\n",
    "    thread_id=thread.id,\n",
    "    agent_id=agent.id,\n",
    "    tool_choice=AgentsNamedToolChoice(type=AgentsNamedToolChoiceType.FUNCTION, function=FunctionName(name=\"agentic_retrieval\")),\n",
    "    toolset=toolset)\n",
    "if run.status == \"failed\":\n",
    "    raise RuntimeError(f\"Run failed: {run.last_error}\")\n",
    "output = project_client.agents.messages.get_last_message_text_by_role(thread_id=thread.id, role=\"assistant\").text.value\n",
    "\n",
    "\n",
    "print(\"Agent response:\", output.replace(\".\", \"\\n\"))"
   ]
  },
  {
   "cell_type": "code",
   "execution_count": null,
   "id": "0fc58425",
   "metadata": {},
   "outputs": [],
   "source": []
  }
 ],
 "metadata": {
  "kernelspec": {
   "display_name": "Python 3",
   "language": "python",
   "name": "python3"
  },
  "language_info": {
   "codemirror_mode": {
    "name": "ipython",
    "version": 3
   },
   "file_extension": ".py",
   "mimetype": "text/x-python",
   "name": "python",
   "nbconvert_exporter": "python",
   "pygments_lexer": "ipython3",
   "version": "3.13.5"
  }
 },
 "nbformat": 4,
 "nbformat_minor": 5
}
