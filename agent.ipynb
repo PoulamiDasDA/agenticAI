{
 "cells": [
  {
   "cell_type": "code",
   "execution_count": 12,
   "id": "2219056a",
   "metadata": {},
   "outputs": [],
   "source": [
    "from dotenv import load_dotenv\n",
    "from azure.identity import DefaultAzureCredential, get_bearer_token_provider\n",
    "import os"
   ]
  },
  {
   "cell_type": "code",
   "execution_count": 13,
   "id": "6172d5e8",
   "metadata": {},
   "outputs": [],
   "source": [
    "\n",
    "\n",
    "load_dotenv(override=True) # take environment variables from .env.\n",
    "\n",
    "# The following variables from your .env file are used in this notebook\n",
    "project_endpoint = os.environ[\"PROJECT_ENDPOINT\"]\n",
    "agent_model = os.getenv(\"AGENT_MODEL\", \"gpt-4.1-mini\")\n",
    "endpoint = os.environ[\"AZURE_SEARCH_ENDPOINT\"]\n",
    "credential = DefaultAzureCredential()\n",
    "token_provider = get_bearer_token_provider(credential, \"https://search.azure.com/.default\")\n",
    "index_name = os.getenv(\"AZURE_SEARCH_INDEX\", \"earth_at_night\")\n",
    "azure_openai_endpoint = os.environ[\"AZURE_OPENAI_ENDPOINT\"]\n",
    "azure_openai_gpt_deployment = os.getenv(\"AZURE_OPENAI_GPT_DEPLOYMENT\", \"gpt-4.1-mini\")\n",
    "azure_openai_gpt_model = os.getenv(\"AZURE_OPENAI_GPT_MODEL\", \"gpt-4.1-mini\")\n",
    "azure_openai_embedding_deployment = os.getenv(\"AZURE_OPENAI_EMBEDDING_DEPLOYMENT\", \"text-embedding-3-large\")\n",
    "azure_openai_embedding_model = os.getenv(\"AZURE_OPENAI_EMBEDDING_MODEL\", \"text-embedding-3-large\")\n",
    "agent_name = os.getenv(\"AZURE_SEARCH_AGENT_NAME\", \"earth-search-agent\")"
   ]
  },
  {
   "cell_type": "code",
   "execution_count": 14,
   "id": "40859ce7",
   "metadata": {},
   "outputs": [],
   "source": [
    "from azure.ai.projects import AIProjectClient\n",
    "from azure.ai.agents.models import FunctionTool, ToolSet, ListSortOrder\n",
    "from azure.ai.agents.models import AgentsNamedToolChoice, AgentsNamedToolChoiceType, FunctionName\n",
    "\n",
    "from azure.search.documents.agent import KnowledgeAgentRetrievalClient\n",
    "from azure.search.documents.agent.models import KnowledgeAgentRetrievalRequest, KnowledgeAgentMessage, KnowledgeAgentMessageTextContent, KnowledgeAgentIndexParams\n"
   ]
  },
  {
   "cell_type": "code",
   "execution_count": 15,
   "id": "87ab16c6",
   "metadata": {},
   "outputs": [
    {
     "data": {
      "text/plain": [
       "[{'id': 'asst_Rd8SKojeMLTLK9Wb8KgQ40mW', 'object': 'assistant', 'created_at': 1753959923, 'name': 'earth-search-agent', 'description': None, 'model': 'gpt-4.1-mini', 'instructions': '\\nA Q&A agent that can answer questions about the Earth at night.\\nSources have a JSON format with a ref_id that must be cited in the answer using the format [ref_id].\\nIf you do not have the answer, respond with \"I don\\'t know\".\\n', 'tools': [], 'top_p': 1.0, 'temperature': 1.0, 'tool_resources': {}, 'metadata': {}, 'response_format': 'auto'}]"
      ]
     },
     "execution_count": 15,
     "metadata": {},
     "output_type": "execute_result"
    }
   ],
   "source": [
    "project_client = AIProjectClient(endpoint=project_endpoint, credential=credential)\n",
    "\n",
    "list(project_client.agents.list_agents())"
   ]
  },
  {
   "cell_type": "code",
   "execution_count": 16,
   "id": "47004aef",
   "metadata": {},
   "outputs": [
    {
     "name": "stdout",
     "output_type": "stream",
     "text": [
      "AI agent 'earth-search-agent' created or updated successfully\n"
     ]
    }
   ],
   "source": [
    "instructions = \"\"\"\n",
    "A Q&A agent that can answer questions about the Earth at night.\n",
    "Sources have a JSON format with a ref_id that must be cited in the answer using the format [ref_id].\n",
    "If you do not have the answer, respond with \"I don't know\".\n",
    "\"\"\"\n",
    "agent = project_client.agents.create_agent(\n",
    "    model=agent_model,\n",
    "    name=agent_name,\n",
    "    instructions=instructions\n",
    ")\n",
    "\n",
    "print(f\"AI agent '{agent_name}' created or updated successfully\")"
   ]
  },
  {
   "cell_type": "code",
   "execution_count": 18,
   "id": "8539da9d",
   "metadata": {},
   "outputs": [],
   "source": [
    "agent_client = KnowledgeAgentRetrievalClient(endpoint=endpoint, agent_name=agent_name, credential=credential)\n",
    "\n",
    "thread = project_client.agents.threads.create()\n",
    "retrieval_results = {}\n",
    "\n",
    "def agentic_retrieval() -> str:\n",
    "    \"\"\"\n",
    "        Searches a NASA e-book about images of Earth at night and other science related facts.\n",
    "        The returned string is in a JSON format that contains the reference id.\n",
    "        Be sure to use the same format in your agent's response\n",
    "        You must refer to references by id number\n",
    "    \"\"\"\n",
    "    # Take the last 5 messages in the conversation\n",
    "    messages = project_client.agents.messages.list(thread.id, limit=5, order=ListSortOrder.DESCENDING)\n",
    "    # Reverse the order so the most recent message is last\n",
    "    messages = list(messages)\n",
    "    messages.reverse()\n",
    "    retrieval_result = agent_client.retrieve(\n",
    "        retrieval_request=KnowledgeAgentRetrievalRequest(\n",
    "            messages=[KnowledgeAgentMessage(role=msg[\"role\"], content=[KnowledgeAgentMessageTextContent(text=msg.content[0].text)]) for msg in messages if msg[\"role\"] != \"system\"],\n",
    "            target_index_params=[KnowledgeAgentIndexParams(index_name=index_name, reranker_threshold=2.5)]\n",
    "        )\n",
    "    )\n",
    "\n",
    "    # Associate the retrieval results with the last message in the conversation\n",
    "    last_message = messages[-1]\n",
    "    retrieval_results[last_message.id] = retrieval_result\n",
    "\n",
    "    # Return the grounding response to the agent\n",
    "    return retrieval_result.response[0].content[0].text\n",
    "\n",
    "\n",
    "functions = FunctionTool({ agentic_retrieval })\n",
    "toolset = ToolSet()\n",
    "toolset.add(functions)\n",
    "project_client.agents.enable_auto_function_calls(toolset)"
   ]
  },
  {
   "cell_type": "code",
   "execution_count": 20,
   "id": "4a3e4065",
   "metadata": {},
   "outputs": [
    {
     "name": "stdout",
     "output_type": "stream",
     "text": [
      "Agent response: Suburban belts display larger December brightening than urban cores because of holiday light displays that are more intense during December in these residential, suburban areas\n",
      " While urban cores have higher absolute light levels year-round, the relative increase in lighting due to holiday decorations is greater in suburban belts, resulting in a 20 to 50 percent increase in brightness during December\n",
      " This seasonal brightening is linked to holiday activities like Christmas and New Year's celebrations which are more prominent in suburbs compared to the already brightly lit urban downtowns [ref_id 0]\n",
      "\n",
      "\n",
      "The Phoenix nighttime street grid is sharply visible from space because the metropolitan area's layout follows a regular grid of city blocks and streets with consistent street lighting that clearly outlines this pattern at night\n",
      " Major streets, commercial properties, and intersections are brightly lit, emphasizing the grid structure\n",
      " In contrast, large stretches of interstate highways between Midwestern cities are comparatively dim because those areas have less continuous lighting and more rural or agricultural land use nearby, which reduces the overall brightness and visibility of these highways from orbit [ref_id 1, 2]\n",
      "\n"
     ]
    }
   ],
   "source": [
    "message = project_client.agents.messages.create(\n",
    "    thread_id=thread.id,\n",
    "    role=\"user\",\n",
    "    content=\"\"\"\n",
    "        Why do suburban belts display larger December brightening than urban cores even though absolute light levels are higher downtown?\n",
    "        Why is the Phoenix nighttime street grid is so sharply visible from space, whereas large stretches of the interstate between midwestern cities remain comparatively dim?\n",
    "    \"\"\"\n",
    ")\n",
    "\n",
    "run = project_client.agents.runs.create_and_process(\n",
    "    thread_id=thread.id,\n",
    "    agent_id=agent.id,\n",
    "    tool_choice=AgentsNamedToolChoice(type=AgentsNamedToolChoiceType.FUNCTION, function=FunctionName(name=\"agentic_retrieval\")),\n",
    "    toolset=toolset)\n",
    "if run.status == \"failed\":\n",
    "    raise RuntimeError(f\"Run failed: {run.last_error}\")\n",
    "output = project_client.agents.messages.get_last_message_text_by_role(thread_id=thread.id, role=\"assistant\").text.value\n",
    "\n",
    "print(\"Agent response:\", output.replace(\".\", \"\\n\"))"
   ]
  },
  {
   "cell_type": "code",
   "execution_count": 21,
   "id": "0bf1e507",
   "metadata": {},
   "outputs": [
    {
     "name": "stdout",
     "output_type": "stream",
     "text": [
      "Retrieval activity\n",
      "[\n",
      "  {\n",
      "    \"id\": 0,\n",
      "    \"type\": \"ModelQueryPlanning\",\n",
      "    \"input_tokens\": 1697,\n",
      "    \"output_tokens\": 567\n",
      "  },\n",
      "  {\n",
      "    \"id\": 1,\n",
      "    \"type\": \"AzureSearchQuery\",\n",
      "    \"target_index\": \"earth_at_night\",\n",
      "    \"query\": {\n",
      "      \"search\": \"Why do suburban areas show greater December brightening in nighttime lights compared to urban cores despite higher absolute light levels downtown?\"\n",
      "    },\n",
      "    \"query_time\": \"2025-08-01T05:47:58.183Z\",\n",
      "    \"count\": 1,\n",
      "    \"elapsed_ms\": 476\n",
      "  },\n",
      "  {\n",
      "    \"id\": 2,\n",
      "    \"type\": \"AzureSearchQuery\",\n",
      "    \"target_index\": \"earth_at_night\",\n",
      "    \"query\": {\n",
      "      \"search\": \"Why is the Phoenix nighttime street grid so sharply visible from space, while large stretches of interstate highways between Midwestern cities appear comparatively dim?\"\n",
      "    },\n",
      "    \"query_time\": \"2025-08-01T05:48:29.820Z\",\n",
      "    \"count\": 2,\n",
      "    \"elapsed_ms\": 31636\n",
      "  },\n",
      "  {\n",
      "    \"id\": 3,\n",
      "    \"type\": \"AzureSearchSemanticRanker\",\n",
      "    \"input_tokens\": 48248\n",
      "  }\n",
      "]\n",
      "Retrieval results\n",
      "[\n",
      "  {\n",
      "    \"type\": \"AzureSearchDoc\",\n",
      "    \"id\": \"0\",\n",
      "    \"activity_source\": 1,\n",
      "    \"doc_key\": \"earth_at_night_508_page_174_verbalized\"\n",
      "  },\n",
      "  {\n",
      "    \"type\": \"AzureSearchDoc\",\n",
      "    \"id\": \"1\",\n",
      "    \"activity_source\": 2,\n",
      "    \"doc_key\": \"earth_at_night_508_page_104_verbalized\"\n",
      "  },\n",
      "  {\n",
      "    \"type\": \"AzureSearchDoc\",\n",
      "    \"id\": \"2\",\n",
      "    \"activity_source\": 2,\n",
      "    \"doc_key\": \"earth_at_night_508_page_105_verbalized\"\n",
      "  }\n",
      "]\n"
     ]
    }
   ],
   "source": [
    "import json\n",
    "\n",
    "retrieval_result = retrieval_results.get(message.id)\n",
    "if retrieval_result is None:\n",
    "    raise RuntimeError(f\"No retrieval results found for message {message.id}\")\n",
    "\n",
    "print(\"Retrieval activity\")\n",
    "print(json.dumps([activity.as_dict() for activity in retrieval_result.activity], indent=2))\n",
    "print(\"Retrieval results\")\n",
    "print(json.dumps([reference.as_dict() for reference in retrieval_result.references], indent=2))"
   ]
  },
  {
   "cell_type": "code",
   "execution_count": 22,
   "id": "d3dc157b",
   "metadata": {},
   "outputs": [
    {
     "name": "stdout",
     "output_type": "stream",
     "text": [
      "Agent response: To find lava at night, one can look for the glowing light emitted from active lava flows and volcanic eruptions\n",
      " This natural light from lava is visible from space and can appear as bright red or orange spots distinct from city lights\n",
      " For instance, lava flows on volcanoes like Mount Etna in Sicily, Italy, or Kilauea in Hawaii are visible in nighttime satellite images due to their thermal glow\n",
      " Satellites use a combination of visible light and thermal infrared imaging to detect the intense heat and light from lava, which helps scientists monitor volcanic activity and enhances public safety\n",
      " Sufficient moonlight can also aid in tracking the location and movement of lava flows at night [ref_id 0, 1, 2, 3, 4]\n",
      "\n"
     ]
    }
   ],
   "source": [
    "message = project_client.agents.messages.create(\n",
    "    thread_id=thread.id,\n",
    "    role=\"user\",\n",
    "    content=\"How do I find lava at night? Use the retrieval tool to answer this question.\"\n",
    ")\n",
    "\n",
    "run = project_client.agents.runs.create_and_process(\n",
    "    thread_id=thread.id,\n",
    "    agent_id=agent.id,\n",
    "    tool_choice=AgentsNamedToolChoice(type=AgentsNamedToolChoiceType.FUNCTION, function=FunctionName(name=\"agentic_retrieval\")),\n",
    "    toolset=toolset)\n",
    "if run.status == \"failed\":\n",
    "    raise RuntimeError(f\"Run failed: {run.last_error}\")\n",
    "output = project_client.agents.messages.get_last_message_text_by_role(thread_id=thread.id, role=\"assistant\").text.value\n",
    "\n",
    "\n",
    "print(\"Agent response:\", output.replace(\".\", \"\\n\"))"
   ]
  }
 ],
 "metadata": {
  "kernelspec": {
   "display_name": "study",
   "language": "python",
   "name": "python3"
  },
  "language_info": {
   "codemirror_mode": {
    "name": "ipython",
    "version": 3
   },
   "file_extension": ".py",
   "mimetype": "text/x-python",
   "name": "python",
   "nbconvert_exporter": "python",
   "pygments_lexer": "ipython3",
   "version": "3.11.9"
  }
 },
 "nbformat": 4,
 "nbformat_minor": 5
}
